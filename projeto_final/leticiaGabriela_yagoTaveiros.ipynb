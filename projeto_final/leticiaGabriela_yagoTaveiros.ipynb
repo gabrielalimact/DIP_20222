{
  "nbformat": 4,
  "nbformat_minor": 0,
  "metadata": {
    "colab": {
      "provenance": [],
      "collapsed_sections": [
        "kItp_TVaVs2V",
        "_x_csXYxYGGo",
        "rPhw6xycbQbf"
      ]
    },
    "kernelspec": {
      "name": "python3",
      "display_name": "Python 3"
    },
    "language_info": {
      "name": "python"
    }
  },
  "cells": [
    {
      "cell_type": "markdown",
      "source": [
        "## Projeto Final\n",
        "### Processamento Digital de Imagens, 2022.2\n",
        "### Alunos: Leticia Gabriela, Yago Taveiros"
      ],
      "metadata": {
        "id": "JaN0BpTJdQUS"
      }
    },
    {
      "cell_type": "code",
      "source": [
        "import requests \n",
        "import cv2\n",
        "import numpy as np\n",
        "import matplotlib.pyplot as plt"
      ],
      "metadata": {
        "id": "NvnrbyTKffb1"
      },
      "execution_count": 2,
      "outputs": []
    },
    {
      "cell_type": "markdown",
      "source": [
        "O link em anexo contém 77 imagens de garrafas. Cada garrafa (no centro da imagem) pode possuir um ou mais dos seguintes 8 defeitos:\n",
        "\n",
        "* CONTENT_HIGH,\n",
        "* CONTENT_LOW,\n",
        "* COVER_NONE,\n",
        "* BOTTLE_SMASHED,\n",
        "* LABEL_MISPLACED,\n",
        "* LABEL_WHITE,\n",
        "* LABEL_NONE,\n",
        "* BOTTLE_NONE.\n",
        "\n",
        "Cada indivíduo/grupo deverá submeter 1 arquivo de notebook (<nome do indivíduo/grupo>.ipynb) contendo uma função que receba uma imagem (numpy) e entregue um array (numpy) contendo 8 valores. Cada valor deve ser:\n",
        "0 (para ausência do defeito correspondente), ou;\n",
        "1 (para presença do defeito correspondente).\n",
        "Requisitos:\n",
        "1. Utilizar o Opencv 2.5.5.\n",
        "2. Em cada imagem, considerar somente a garrafa do meio.\n",
        "3. Trabalho individual ou em dupla. No caso de dupla, o grupo vai decidir a divisão dos pontos que será no mín. 0 e no máx. 20.\n",
        "4. Utilizar somente técnicas referentes à disciplina de processamento de imagens, excetuando redes neurais.\n",
        "\n",
        "\n",
        "\n",
        "https://github.com/tfvieira/digital-image-processing/tree/main/img/bottles"
      ],
      "metadata": {
        "id": "7Cq-rqBxdclF"
      }
    },
    {
      "cell_type": "code",
      "source": [
        "def get_url(number):\n",
        "  url = f\"https://github.com/tfvieira/digital-image-processing/blob/main/img/bottles/train/train_{number}.jpg?raw=true\"\n",
        "\n",
        "  return url\n",
        "\n",
        "urls = []\n",
        "\n",
        "for i in range(1,78):\n",
        "  urls.append(get_url(i))"
      ],
      "metadata": {
        "id": "s4UPLshPnj6s"
      },
      "execution_count": 292,
      "outputs": []
    },
    {
      "cell_type": "code",
      "source": [
        "dic = { 'CONTENT_HIGH': 0, 'CONTENT_LOW': 0, 'COVER_NONE': 0, 'BOTTLE_SMASHED': 0, 'LABEL_MISPLACED': 0, 'LABEL_WHITE': 0, 'LABEL_NONE': 0, 'BOTTLE_NONE': 0 }"
      ],
      "metadata": {
        "id": "dtYyV5QCQX47"
      },
      "execution_count": 184,
      "outputs": []
    },
    {
      "cell_type": "code",
      "source": [
        "def create_image_dict(url):\n",
        "  image_dict = dict(dic) \n",
        "  return image_dict\n",
        "\n",
        "# Lista de dicionários de imagens\n",
        "image_dicts = [create_image_dict(url) for url in urls]"
      ],
      "metadata": {
        "id": "xem9vxD9oUms"
      },
      "execution_count": 293,
      "outputs": []
    },
    {
      "cell_type": "markdown",
      "source": [
        "#### Extrair garrafa do meio"
      ],
      "metadata": {
        "id": "tYPolCy8fUXh"
      }
    },
    {
      "cell_type": "code",
      "source": [
        "def req_img(url):\n",
        "  img_array = np.frombuffer(requests.get(url).content, np.uint8)\n",
        "  img = cv2.imdecode(img_array, cv2.IMREAD_COLOR)\n",
        "  img = cv2.cvtColor(img, cv2.COLOR_BGR2RGB)\n",
        "  return img\n",
        "\n",
        "\n",
        "def mid_bottle(image): \n",
        "  # Define as coordenadas do retângulo de recorte (x, y, largura, altura)\n",
        "  x = 110\n",
        "  y = 0\n",
        "  width = 130\n",
        "  height = 300\n",
        "\n",
        "  # Recorta a região da imagem\n",
        "  bottle = image[y:y+height, x:x+width]\n",
        "\n",
        "  return bottle"
      ],
      "metadata": {
        "id": "pC6X1l02UbPh"
      },
      "execution_count": 294,
      "outputs": []
    },
    {
      "cell_type": "markdown",
      "source": [
        "#### identificando se existe garrafa = bottle_none"
      ],
      "metadata": {
        "id": "hKiKuhT_xEpP"
      }
    },
    {
      "cell_type": "code",
      "source": [
        "def has_bottle(image):\n",
        "  # Calcule a cor média da imagem\n",
        "  cor_media = cv2.mean(image)[:3]\n",
        "\n",
        "  # Cor média quando não tem garrafa\n",
        "  cor_fornecida = (217.5113782051282, 181.4309561965812, 146.8693376068376)\n",
        "\n",
        "  # Limiar de diferença aceitável\n",
        "  limiar = 10\n",
        "\n",
        "  cor_media_arr = np.array(cor_media)\n",
        "  cor_fornecida_arr = np.array(cor_fornecida)\n",
        "\n",
        "  diferenca = np.abs(cor_media_arr - cor_fornecida_arr)\n",
        "\n",
        "  if np.all(diferenca <= limiar):\n",
        "      return 1\n",
        "  else:\n",
        "      return 0"
      ],
      "metadata": {
        "id": "jko9mKCcwIoA"
      },
      "execution_count": 300,
      "outputs": []
    },
    {
      "cell_type": "markdown",
      "source": [
        "#### identificando se há tampa = COVER_NONE\n"
      ],
      "metadata": {
        "id": "Iv1ogVjHRmD8"
      }
    },
    {
      "cell_type": "code",
      "source": [
        "def has_cap(image):\n",
        "  # Definindo as coordenadas da região da tampa\n",
        "  x = 0\n",
        "  y = 0\n",
        "  width = 100\n",
        "  height = 70\n",
        "\n",
        "  # Recortando a região da tampa da garrafa\n",
        "  cap_region = image[y:y+height, x:x+width]\n",
        "  # plt.imshow(cap_region)\n",
        "\n",
        "  # Definindo o intervalo de cores da tampa (no exemplo, consideramos uma tampa vermelha)\n",
        "  lower_color = np.array([100, 0, 0]) \n",
        "  upper_color = np.array([255, 50, 50])\n",
        "  \n",
        "  # Segmentação de cores\n",
        "  mask = cv2.inRange(cap_region, lower_color, upper_color)\n",
        "\n",
        "  # Verificando se há pixels brancos na máscara\n",
        "  has_red = np.any(mask == 255)\n",
        "\n",
        "  if has_red:\n",
        "      return 0\n",
        "  else:\n",
        "      return 1"
      ],
      "metadata": {
        "id": "ppM3CPCrRodw"
      },
      "execution_count": 301,
      "outputs": []
    },
    {
      "cell_type": "markdown",
      "source": [
        "#### identificando se há rótulo = label_none"
      ],
      "metadata": {
        "id": "kItp_TVaVs2V"
      }
    },
    {
      "cell_type": "code",
      "source": [
        "def has_label(image):\n",
        "  # Definindo as coordenadas da região do rótulo\n",
        "  x = 20\n",
        "  y = 175\n",
        "  width = 150\n",
        "  height = 150\n",
        "\n",
        "  # Recortando a região do rótulo\n",
        "  label_region = image[y:y+height, x:x+width]\n",
        "\n",
        "  # plt.imshow(label_region)\n",
        "\n",
        "  # Definindo o intervalo de cores do rótulo (no exemplo, consideramos um rótulo vermelho)\n",
        "  lower_color = np.array([100, 0, 0])\n",
        "  upper_color = np.array([255, 50, 50])\n",
        "\n",
        "  # Segmentação de cores\n",
        "  mask = cv2.inRange(label_region, lower_color, upper_color)\n",
        "\n",
        "  # Verificando se há pixels brancos na máscara\n",
        "  has_red = np.any(mask == 255)\n",
        "\n",
        "  if has_red:\n",
        "      return 0\n",
        "  else:\n",
        "      return 1"
      ],
      "metadata": {
        "id": "ayj23fjwWnSn"
      },
      "execution_count": 302,
      "outputs": []
    },
    {
      "cell_type": "markdown",
      "source": [
        "#### identificando se o rótulo é branco = label_white\n"
      ],
      "metadata": {
        "id": "_x_csXYxYGGo"
      }
    },
    {
      "cell_type": "code",
      "source": [
        "def has_label_white(image):\n",
        "  # Definindo as coordenadas da região do rótulo\n",
        "  x = 20\n",
        "  y = 150\n",
        "  width = 150\n",
        "  height = 150\n",
        "\n",
        "  # Recortando a região do rótulo\n",
        "  label_region = image[y:y+height, x:x+width]\n",
        "  # plt.imshow(label_region)\n",
        "  \n",
        "  gray_image = cv2.cvtColor(label_region, cv2.COLOR_RGB2GRAY)\n",
        "  thresh = cv2.adaptiveThreshold(gray_image, 255, cv2.ADAPTIVE_THRESH_MEAN_C, cv2.THRESH_BINARY, 11, 2)\n",
        "  # Calculando a porcentagem de pixels brancos na imagem\n",
        "  total_pixels = np.prod(thresh.shape)\n",
        "  white_pixels = np.sum(thresh == 255)\n",
        "  white_percentage = (white_pixels / total_pixels) * 100\n",
        "\n",
        "  has_significant_white_area = white_percentage > 75\n",
        "\n",
        "  if has_significant_white_area:\n",
        "      return 1\n",
        "  else:\n",
        "      return 0"
      ],
      "metadata": {
        "id": "gEXWsuddYVeN"
      },
      "execution_count": 303,
      "outputs": []
    },
    {
      "cell_type": "markdown",
      "source": [
        "#### Garrafa cheia = content_high \n",
        "#### Garrafa com pouco ou nenhum conteúdo = content_low"
      ],
      "metadata": {
        "id": "rPhw6xycbQbf"
      }
    },
    {
      "cell_type": "code",
      "source": [
        "def has_content(image):\n",
        "  x = 30\n",
        "  y = 113\n",
        "  width = 70\n",
        "  height = 22\n",
        "\n",
        "  content_region = image[y:y+height, x:x+width]\n",
        "  # plt.imshow(content_region)\n",
        "\n",
        "  lower_color = np.array([0, 0, 0])  # Limite inferior para preto em RGB\n",
        "  upper_color = np.array([30, 30, 30])  # Limite superior para preto em RGB\n",
        "\n",
        "  # Segmentação de cores\n",
        "  mask = cv2.inRange(content_region, lower_color, upper_color)\n",
        "\n",
        "  # Verificando se há pixels brancos na máscara\n",
        "  has_content = np.any(mask == 255)\n",
        "\n",
        "  if has_content:\n",
        "      return 1\n",
        "  else:\n",
        "      return 0"
      ],
      "metadata": {
        "id": "ICvc6qndcDMW"
      },
      "execution_count": 304,
      "outputs": []
    },
    {
      "cell_type": "markdown",
      "source": [
        "### Salvando os erros de cada imagem"
      ],
      "metadata": {
        "id": "sGAxHCSguGJJ"
      }
    },
    {
      "cell_type": "code",
      "source": [
        "for i, image_dict in enumerate(image_dicts):\n",
        "    # Obter a imagem correspondente ao dicionário\n",
        "    image_url = urls[i]  # Obter a URL da imagem\n",
        "    image = req_img(image_url)\n",
        "    img = mid_bottle(image)\n",
        "\n",
        "    cover_none = has_cap(img)\n",
        "    content_high = has_content(img)\n",
        "    content_low = int(not has_content(img))\n",
        "    label_white = has_label_white(img)\n",
        "    label_none = has_label(img)\n",
        "    bottle_none = has_bottle(img)\n",
        "\n",
        "\n",
        "    # Atualizar o dicionário com o resultado\n",
        "    image_dict['COVER_NONE'] = cover_none\n",
        "    image_dict['CONTENT_HIGH'] = content_high\n",
        "    image_dict['CONTENT_LOW'] = content_low\n",
        "    image_dict['LABEL_NONE'] = label_none\n",
        "    image_dict['LABEL_WHITE'] = label_white\n",
        "    image_dict['BOTTLE_NONE'] = bottle_none"
      ],
      "metadata": {
        "id": "avJ6pp7grJeQ"
      },
      "execution_count": 305,
      "outputs": []
    },
    {
      "cell_type": "code",
      "source": [
        "import csv\n",
        "\n",
        "# Juntar todos os dicionários em uma lista\n",
        "all_dicts = image_dicts\n",
        "\n",
        "# Obter todas as chaves presentes em todos os dicionários\n",
        "all_keys = set().union(*all_dicts)\n",
        "\n",
        "# Nome do arquivo CSV\n",
        "csv_filename = 'imagens.csv'\n",
        "\n",
        "# Adicionar a chave 'Nome' ao conjunto de chaves\n",
        "all_keys.add('Nome')\n",
        "\n",
        "# Mover a chave 'Nome' para o início do conjunto de chaves\n",
        "all_keys = ['Nome'] + sorted(list(all_keys - {'Nome'}))\n",
        "\n",
        "# Abrir o arquivo CSV em modo de escrita\n",
        "with open(csv_filename, 'w', newline='') as file:\n",
        "    writer = csv.DictWriter(file, fieldnames=all_keys)\n",
        "\n",
        "    # Escrever o cabeçalho do CSV\n",
        "    writer.writeheader()\n",
        "\n",
        "    # Escrever cada dicionário como uma linha no CSV\n",
        "    for i, image_dict in enumerate(all_dicts):\n",
        "        image_dict['Nome'] = f\"Imagem {i+1}\"  # Adicionar o nome da imagem\n",
        "        writer.writerow(image_dict)\n",
        "\n",
        "print(f\"Arquivo CSV '{csv_filename}' criado com sucesso.\")\n"
      ],
      "metadata": {
        "colab": {
          "base_uri": "https://localhost:8080/"
        },
        "id": "E62Btf8PuhVg",
        "outputId": "0e484931-76d4-4b02-d122-17c31975a0f9"
      },
      "execution_count": 291,
      "outputs": [
        {
          "output_type": "stream",
          "name": "stdout",
          "text": [
            "Arquivo CSV 'imagens.csv' criado com sucesso.\n"
          ]
        }
      ]
    },
    {
      "cell_type": "code",
      "source": [
        "import pandas as pd\n",
        "\n",
        "dados = pd.read_csv('imagens.csv')\n",
        "print(dados)"
      ],
      "metadata": {
        "colab": {
          "base_uri": "https://localhost:8080/"
        },
        "id": "wkiOD0r10wQg",
        "outputId": "b10d2f29-dfa9-4562-db47-5488431a3469"
      },
      "execution_count": 307,
      "outputs": [
        {
          "output_type": "stream",
          "name": "stdout",
          "text": [
            "         Nome  BOTTLE_NONE  BOTTLE_SMASHED  CONTENT_HIGH  CONTENT_LOW  \\\n",
            "0    Imagem 1            0               0             0            1   \n",
            "1    Imagem 2            0               0             0            1   \n",
            "2    Imagem 3            0               0             0            1   \n",
            "3    Imagem 4            0               0             1            0   \n",
            "4    Imagem 5            0               0             0            1   \n",
            "..        ...          ...             ...           ...          ...   \n",
            "72  Imagem 73            0               0             0            1   \n",
            "73  Imagem 74            0               0             0            1   \n",
            "74  Imagem 75            0               0             0            1   \n",
            "75  Imagem 76            0               0             1            0   \n",
            "76  Imagem 77            0               0             0            1   \n",
            "\n",
            "    COVER_NONE  LABEL_MISPLACED  LABEL_NONE  LABEL_WHITE  \n",
            "0            0                0           0            0  \n",
            "1            0                0           0            0  \n",
            "2            1                0           0            0  \n",
            "3            1                0           0            0  \n",
            "4            1                0           0            0  \n",
            "..         ...              ...         ...          ...  \n",
            "72           0                0           0            0  \n",
            "73           0                0           0            0  \n",
            "74           0                0           0            0  \n",
            "75           0                0           0            0  \n",
            "76           0                0           0            0  \n",
            "\n",
            "[77 rows x 9 columns]\n"
          ]
        }
      ]
    }
  ]
}