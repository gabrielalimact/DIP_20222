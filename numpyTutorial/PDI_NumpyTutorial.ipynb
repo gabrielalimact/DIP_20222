{
  "nbformat": 4,
  "nbformat_minor": 0,
  "metadata": {
    "colab": {
      "provenance": []
    },
    "kernelspec": {
      "name": "python3",
      "display_name": "Python 3"
    },
    "language_info": {
      "name": "python"
    }
  },
  "cells": [
    {
      "cell_type": "markdown",
      "source": [
        "## UNIVERSIDADE FEDERAL DE ALAGOAS\n",
        "### Engenharia de Computação - 2022.2 \n",
        "### Computação Gráfica e Processamento Digital de Imagens\n",
        "#### Prof.: Tiago Vieira\n",
        "#### Aluna: Letícia Gabriela Cena de Lima (18113063)"
      ],
      "metadata": {
        "id": "dKyW_BEvGHZG"
      }
    },
    {
      "cell_type": "code",
      "source": [
        "import numpy as np\n",
        "import heapq\n",
        "from PIL import Image\n",
        "import requests\n",
        "import matplotlib.pyplot as plt\n"
      ],
      "metadata": {
        "id": "J1D6za8Ji-Vp"
      },
      "execution_count": 162,
      "outputs": []
    },
    {
      "cell_type": "markdown",
      "source": [
        "## Numpy Array\n"
      ],
      "metadata": {
        "id": "IQOISOT3is5t"
      }
    },
    {
      "cell_type": "code",
      "source": [
        "# How to create an empty and a full NumPy array?\n",
        "a = np.empty(0)\n",
        "b = np.full(5, 5)\n",
        "\n",
        "print(a,'\\n',b)"
      ],
      "metadata": {
        "colab": {
          "base_uri": "https://localhost:8080/"
        },
        "id": "eeq0Am_Vt_Ca",
        "outputId": "a730c0bb-7a2b-46a0-9201-964a0bbea31e"
      },
      "execution_count": null,
      "outputs": [
        {
          "output_type": "stream",
          "name": "stdout",
          "text": [
            "[] \n",
            " [5 5 5 5 5]\n"
          ]
        }
      ]
    },
    {
      "cell_type": "code",
      "source": [
        "# Create a Numpy array filled with all zeros\n",
        "a = np.zeros(5)\n",
        "print(a)"
      ],
      "metadata": {
        "colab": {
          "base_uri": "https://localhost:8080/"
        },
        "id": "Na8pLAteuEFG",
        "outputId": "62d6b284-7b9b-463e-cb5d-430601a10134"
      },
      "execution_count": null,
      "outputs": [
        {
          "output_type": "stream",
          "name": "stdout",
          "text": [
            "[0. 0. 0. 0. 0.]\n"
          ]
        }
      ]
    },
    {
      "cell_type": "code",
      "source": [
        "# Create a Numpy array filled with all ones\n",
        "a = np.ones(5)\n",
        "print(a)"
      ],
      "metadata": {
        "colab": {
          "base_uri": "https://localhost:8080/"
        },
        "id": "GnEBIt66uRra",
        "outputId": "6857c87b-bbe8-40b9-caa5-ae3325adb259"
      },
      "execution_count": null,
      "outputs": [
        {
          "output_type": "stream",
          "name": "stdout",
          "text": [
            "[1. 1. 1. 1. 1.]\n"
          ]
        }
      ]
    },
    {
      "cell_type": "code",
      "source": [
        "# Check whether a Numpy array contains a specified row\n",
        "a = np.array([[1, 2, 3], [4, 5, 6], [7, 8, 9]])\n",
        "b = np.array([4, 5, 6])\n",
        "\n",
        "print(b in a) # verificando se b existe em a"
      ],
      "metadata": {
        "colab": {
          "base_uri": "https://localhost:8080/"
        },
        "id": "NM9xW3uAuwEi",
        "outputId": "23601b47-e073-4fce-d124-5b59f6d60521"
      },
      "execution_count": null,
      "outputs": [
        {
          "output_type": "stream",
          "name": "stdout",
          "text": [
            "True\n"
          ]
        }
      ]
    },
    {
      "cell_type": "code",
      "source": [
        "# How to Remove rows in Numpy array that contains non-numeric values?\n",
        "a = np.array([[10, 20, 30], [40, 50, np.nan], [\n",
        "             np.nan, 6, np.nan], [np.nan, np.nan, np.nan], [80, 90, 100]])\n",
        "\n",
        "print('before:\\n', a)\n",
        "\n",
        "\n",
        "i = a[~np.isnan(a).any(axis=1)]\n",
        "print('\\nafter: \\n',i)"
      ],
      "metadata": {
        "colab": {
          "base_uri": "https://localhost:8080/"
        },
        "id": "Cc3Gj8OrvhOB",
        "outputId": "173e9905-d12e-42e5-defc-435e4cdc6c55"
      },
      "execution_count": null,
      "outputs": [
        {
          "output_type": "stream",
          "name": "stdout",
          "text": [
            "before:\n",
            " [[ 10.  20.  30.]\n",
            " [ 40.  50.  nan]\n",
            " [ nan   6.  nan]\n",
            " [ nan  nan  nan]\n",
            " [ 80.  90. 100.]]\n",
            "\n",
            "after: \n",
            " [[ 10.  20.  30.]\n",
            " [ 80.  90. 100.]]\n"
          ]
        }
      ]
    },
    {
      "cell_type": "code",
      "source": [
        "# Remove single-dimensional entries from the shape of an array\n",
        "\n",
        "a = np.array([[[2, 2, 2], [5, 6, 7], [1, 2, 3]]])\n",
        "print (\"array: \\n \", a) \n",
        "print(\"shape: \", a.shape)  \n",
        " \n",
        "\n",
        "i = np.squeeze(a) \n",
        "print (\"\\nsqueezed array: \\n \", i)\n",
        "print(\"shape of squeezed array: \", i.shape) "
      ],
      "metadata": {
        "colab": {
          "base_uri": "https://localhost:8080/"
        },
        "id": "UGDCe-MPy_48",
        "outputId": "57dc6726-ca05-480f-a7d9-dad9e051942f"
      },
      "execution_count": null,
      "outputs": [
        {
          "output_type": "stream",
          "name": "stdout",
          "text": [
            "array: \n",
            "  [[[2 2 2]\n",
            "  [5 6 7]\n",
            "  [1 2 3]]]\n",
            "shape:  (1, 3, 3)\n",
            "\n",
            "squeezed array: \n",
            "  [[2 2 2]\n",
            " [5 6 7]\n",
            " [1 2 3]]\n",
            "shape of squeezed array:  (3, 3)\n"
          ]
        }
      ]
    },
    {
      "cell_type": "code",
      "source": [
        "# Find the number of occurrences of a sequence in a NumPy array\n",
        "a = np.array([[1, 2, 3, 4, 5, 5, 6, 7, 8, 9, 10,4,5, 12, 13, 14], \n",
        "                [44, 45, 46, 47, 48, 49, 50, 51, 4, 5, 5, 56, 57, 4, 5], \n",
        "                [87, 88, 89, 4, 5, 92, 93, 94, 95, 96, 97, 98, 99, 4, 5]], dtype=object)\n",
        "  \n",
        "print(repr(a).count(\"4, 5\"))"
      ],
      "metadata": {
        "colab": {
          "base_uri": "https://localhost:8080/"
        },
        "id": "jTr4lgIK0p48",
        "outputId": "5391d0b9-0125-41fa-ec09-6413682e6c66"
      },
      "execution_count": null,
      "outputs": [
        {
          "output_type": "stream",
          "name": "stdout",
          "text": [
            "6\n"
          ]
        }
      ]
    },
    {
      "cell_type": "code",
      "source": [
        "# Find the most frequent value in a NumPy array\n",
        "a = np.array([0, 1, 2, 3, 4, 5, 6, 7, 8, 9, 5, 4, 3, 2, 1, 1, 1])\n",
        "print(np.bincount(a).argmax())"
      ],
      "metadata": {
        "colab": {
          "base_uri": "https://localhost:8080/"
        },
        "id": "-AMtG4l3I5Cq",
        "outputId": "29ec4ec3-d171-436f-9712-71dead3f9025"
      },
      "execution_count": null,
      "outputs": [
        {
          "output_type": "stream",
          "name": "stdout",
          "text": [
            "1\n"
          ]
        }
      ]
    },
    {
      "cell_type": "code",
      "source": [
        "# Combining a one and a two-dimensional NumPy Array\n",
        "a = np.array([[1,2],[3,4]])\n",
        "b = np.array([5,6])\n",
        "\n",
        "for x, y in np.nditer([a, b]):\n",
        "    print(\"%d:%d\" % (x, y))\n"
      ],
      "metadata": {
        "colab": {
          "base_uri": "https://localhost:8080/"
        },
        "id": "7GbiYMKTNv0t",
        "outputId": "89699b26-5546-45d5-fa16-8c682552c785"
      },
      "execution_count": null,
      "outputs": [
        {
          "output_type": "stream",
          "name": "stdout",
          "text": [
            "1:5\n",
            "2:6\n",
            "3:5\n",
            "4:6\n"
          ]
        }
      ]
    },
    {
      "cell_type": "code",
      "source": [
        "# How to build an array of all combinations of two NumPy arrays?\n",
        "a = np.array([[1,2],[3,4]])\n",
        "b = np.array([[5,6],[7, 8]])\n",
        "\n",
        "print(np.array(np.meshgrid(a, b)).T.reshape(-1,2))"
      ],
      "metadata": {
        "id": "ClWTaGSFN05j",
        "colab": {
          "base_uri": "https://localhost:8080/"
        },
        "outputId": "f5220259-9e91-47ce-e896-873a399bc65d"
      },
      "execution_count": null,
      "outputs": [
        {
          "output_type": "stream",
          "name": "stdout",
          "text": [
            "[[1 5]\n",
            " [1 6]\n",
            " [1 7]\n",
            " [1 8]\n",
            " [2 5]\n",
            " [2 6]\n",
            " [2 7]\n",
            " [2 8]\n",
            " [3 5]\n",
            " [3 6]\n",
            " [3 7]\n",
            " [3 8]\n",
            " [4 5]\n",
            " [4 6]\n",
            " [4 7]\n",
            " [4 8]]\n"
          ]
        }
      ]
    },
    {
      "cell_type": "code",
      "source": [
        "# How to add a border around a NumPy array?\n",
        "a = np.array([[1,2],[3,4]])\n",
        "print('before:')\n",
        "print(a)\n",
        "\n",
        "border = np.pad(a, pad_width=2, mode='constant', constant_values=0)\n",
        "print('\\nafter:')\n",
        "print(border)"
      ],
      "metadata": {
        "id": "1NE2tjoRN10U",
        "colab": {
          "base_uri": "https://localhost:8080/"
        },
        "outputId": "df2b2d9f-892c-48b3-dab6-b02d2e5b2039"
      },
      "execution_count": null,
      "outputs": [
        {
          "output_type": "stream",
          "name": "stdout",
          "text": [
            "before:\n",
            "[[1 2]\n",
            " [3 4]]\n",
            "\n",
            "after:\n",
            "[[0 0 0 0 0 0]\n",
            " [0 0 0 0 0 0]\n",
            " [0 0 1 2 0 0]\n",
            " [0 0 3 4 0 0]\n",
            " [0 0 0 0 0 0]\n",
            " [0 0 0 0 0 0]]\n"
          ]
        }
      ]
    },
    {
      "cell_type": "code",
      "source": [
        "# How to compare two NumPy arrays?\n",
        "a = np.array([[1,2],[3,4]])\n",
        "b = np.array([[5,6],[7, 8]])\n",
        "c = a==b\n",
        "print(c.all())\n",
        "\n",
        "\n",
        "d = np.array([[1,2],[3,4]])\n",
        "e = np.array([[1,2],[3,4]])\n",
        "f = d==e\n",
        "print(f.all())"
      ],
      "metadata": {
        "id": "HgYEE4EFN7N_",
        "colab": {
          "base_uri": "https://localhost:8080/"
        },
        "outputId": "148f0b51-3ec4-4979-a89a-9ebd6b22c868"
      },
      "execution_count": null,
      "outputs": [
        {
          "output_type": "stream",
          "name": "stdout",
          "text": [
            "False\n",
            "True\n"
          ]
        }
      ]
    },
    {
      "cell_type": "code",
      "source": [
        "# How to check whether specified values are present in NumPy array?\n",
        "a = np.array([[1,2],[3,4]])\n",
        "\n",
        "print(1 in a)\n",
        "print(10 in a)\n"
      ],
      "metadata": {
        "id": "M-VgMp0dN-OZ",
        "colab": {
          "base_uri": "https://localhost:8080/"
        },
        "outputId": "86fd7462-f67d-4132-e45b-2ce4eadfa03e"
      },
      "execution_count": null,
      "outputs": [
        {
          "output_type": "stream",
          "name": "stdout",
          "text": [
            "True\n",
            "False\n"
          ]
        }
      ]
    },
    {
      "cell_type": "code",
      "source": [
        "# How to get all 2D diagonals of a 3D NumPy array?\n",
        "a = np.arange(3 * 3 * 3).reshape(3, 3, 3)\n",
        "print('3D numpay arrays:')\n",
        "print(a, '\\n')\n",
        "\n",
        "print(np.diagonal(a, axis1=1, axis2=2))"
      ],
      "metadata": {
        "id": "rUGMY00QN_L6",
        "colab": {
          "base_uri": "https://localhost:8080/"
        },
        "outputId": "9194fc14-425a-4cfc-a9c0-3d6205556975"
      },
      "execution_count": null,
      "outputs": [
        {
          "output_type": "stream",
          "name": "stdout",
          "text": [
            "3D numpay arrays:\n",
            "[[[ 0  1  2]\n",
            "  [ 3  4  5]\n",
            "  [ 6  7  8]]\n",
            "\n",
            " [[ 9 10 11]\n",
            "  [12 13 14]\n",
            "  [15 16 17]]\n",
            "\n",
            " [[18 19 20]\n",
            "  [21 22 23]\n",
            "  [24 25 26]]] \n",
            "\n",
            "[[ 0  4  8]\n",
            " [ 9 13 17]\n",
            " [18 22 26]]\n"
          ]
        }
      ]
    },
    {
      "cell_type": "code",
      "source": [
        "# Flatten a Matrix in Python using NumPy\n",
        "a = np.arange(4*4).reshape(4,4)\n",
        "print(a, '\\n')\n",
        "\n",
        "print(a.flatten())"
      ],
      "metadata": {
        "id": "QmO8Q2XWOAhs",
        "colab": {
          "base_uri": "https://localhost:8080/"
        },
        "outputId": "377a555f-ed9f-45d4-cb04-ace31a874559"
      },
      "execution_count": null,
      "outputs": [
        {
          "output_type": "stream",
          "name": "stdout",
          "text": [
            "[[ 0  1  2  3]\n",
            " [ 4  5  6  7]\n",
            " [ 8  9 10 11]\n",
            " [12 13 14 15]] \n",
            "\n",
            "[ 0  1  2  3  4  5  6  7  8  9 10 11 12 13 14 15]\n"
          ]
        }
      ]
    },
    {
      "cell_type": "code",
      "source": [
        "# Flatten a 2d numpy array into 1d array\n",
        "a = np.arange(2*2).reshape(2,2)\n",
        "print(a, '\\n')\n",
        "\n",
        "print(a.flatten())"
      ],
      "metadata": {
        "id": "KxzUR8LXOCUX",
        "colab": {
          "base_uri": "https://localhost:8080/"
        },
        "outputId": "d5f1c771-2848-494e-9889-bafef5f1629e"
      },
      "execution_count": null,
      "outputs": [
        {
          "output_type": "stream",
          "name": "stdout",
          "text": [
            "[[0 1]\n",
            " [2 3]] \n",
            "\n",
            "[0 1 2 3]\n"
          ]
        }
      ]
    },
    {
      "cell_type": "code",
      "source": [
        "# Move axes of an array to new positions\n",
        "a = np.arange(3*3).reshape(3,3)\n",
        "print(a, '\\n')\n",
        "\n",
        "print(np.moveaxis(a, -1, 1), '\\n')\n",
        "print(np.transpose(a))"
      ],
      "metadata": {
        "id": "9x6mVoWTODVE",
        "colab": {
          "base_uri": "https://localhost:8080/"
        },
        "outputId": "f9791929-d36f-45b6-c4c9-e4d7d1effbe4"
      },
      "execution_count": null,
      "outputs": [
        {
          "output_type": "stream",
          "name": "stdout",
          "text": [
            "[[0 1 2]\n",
            " [3 4 5]\n",
            " [6 7 8]] \n",
            "\n",
            "[[0 1 2]\n",
            " [3 4 5]\n",
            " [6 7 8]] \n",
            "\n",
            "[[0 3 6]\n",
            " [1 4 7]\n",
            " [2 5 8]]\n"
          ]
        }
      ]
    },
    {
      "cell_type": "code",
      "source": [
        "# Interchange two axes of an array\n",
        "a = np.arange(2*3).reshape(2,3)\n",
        "print(a, '\\n')\n",
        "\n",
        "arr = a.swapaxes(0, 1)\n",
        "print(arr, '\\n')"
      ],
      "metadata": {
        "id": "uAqs80LFOEcM",
        "colab": {
          "base_uri": "https://localhost:8080/"
        },
        "outputId": "098134fd-37a7-4aa6-b339-758d667ecddb"
      },
      "execution_count": null,
      "outputs": [
        {
          "output_type": "stream",
          "name": "stdout",
          "text": [
            "[[0 1 2]\n",
            " [3 4 5]] \n",
            "\n",
            "[[0 3]\n",
            " [1 4]\n",
            " [2 5]] \n",
            "\n"
          ]
        }
      ]
    },
    {
      "cell_type": "code",
      "source": [
        "# NumPy – Fibonacci Series using Binet Formula\n",
        "\n",
        "def fibonacci(n):\n",
        "  sqrt_five = np.sqrt(5)\n",
        "  phi = (1 + sqrt_five) / 2\n",
        "  return np.rint((phi ** np.arange(1, n + 1)) / sqrt_five)\n",
        "\n",
        "print(fibonacci(10))"
      ],
      "metadata": {
        "id": "83D3wzpzOFpm",
        "colab": {
          "base_uri": "https://localhost:8080/"
        },
        "outputId": "2dcb13ba-e150-4d70-b92a-34eacf64c3a7"
      },
      "execution_count": null,
      "outputs": [
        {
          "output_type": "stream",
          "name": "stdout",
          "text": [
            "[ 1.  1.  2.  3.  5.  8. 13. 21. 34. 55.]\n"
          ]
        }
      ]
    },
    {
      "cell_type": "code",
      "source": [
        "# Counts the number of non-zero values in the array\n",
        "\n",
        "a = np.array([0, 1, 2, 0, 3, 0])\n",
        "count = np.count_nonzero(a)\n",
        "print(count)"
      ],
      "metadata": {
        "id": "MBWrPcupOGxX",
        "colab": {
          "base_uri": "https://localhost:8080/"
        },
        "outputId": "5eaad98b-19bb-4128-dd82-07a13b7ebc3e"
      },
      "execution_count": null,
      "outputs": [
        {
          "output_type": "stream",
          "name": "stdout",
          "text": [
            "3\n"
          ]
        }
      ]
    },
    {
      "cell_type": "code",
      "source": [
        "# Count the number of elements along a given axis\n",
        "\n",
        "a = np.arange(2*3).reshape(2,3)\n",
        "print(a, '\\n')\n",
        "count_rows = a.shape[0]\n",
        "count_cols = a.shape[1]\n",
        "\n",
        "print('rows: ', count_rows)\n",
        "print('columns: ', count_cols)\n"
      ],
      "metadata": {
        "id": "_WekZrJxOHvk",
        "colab": {
          "base_uri": "https://localhost:8080/"
        },
        "outputId": "3c0cb360-73ac-409e-f4da-955c8dc5c6a6"
      },
      "execution_count": null,
      "outputs": [
        {
          "output_type": "stream",
          "name": "stdout",
          "text": [
            "[[0 1 2]\n",
            " [3 4 5]] \n",
            "\n",
            "rows:  2\n",
            "columns:  3\n"
          ]
        }
      ]
    },
    {
      "cell_type": "code",
      "source": [
        "# Trim the leading and/or trailing zeros from a 1-D array\n",
        "array = np.array([0, 0, 0, 1, 3, 0, 13, 0, 0])\n",
        "trimmed_array = np.trim_zeros(array)\n",
        "\n",
        "# print the trimmed array\n",
        "print(trimmed_array)\n"
      ],
      "metadata": {
        "id": "28n4fCYkOJJa",
        "colab": {
          "base_uri": "https://localhost:8080/"
        },
        "outputId": "586ba35b-c42c-4faa-f65c-a9f59c6d4dfc"
      },
      "execution_count": null,
      "outputs": [
        {
          "output_type": "stream",
          "name": "stdout",
          "text": [
            "[ 1  3  0 13]\n"
          ]
        }
      ]
    },
    {
      "cell_type": "code",
      "source": [
        "# Change data type of given numpy array\n",
        "a = np.array([1, 2, 3, 4, 5])\n",
        "print('before:', a, ' | type:', a.dtype)\n",
        "\n",
        "a = a.astype(float) # change to float\n",
        "print('after:', a, ' | type:', a.dtype)\n"
      ],
      "metadata": {
        "id": "PkJtg9MYOJ50",
        "colab": {
          "base_uri": "https://localhost:8080/"
        },
        "outputId": "e5b61c12-f6d1-40d8-f806-42d35d6abc7b"
      },
      "execution_count": null,
      "outputs": [
        {
          "output_type": "stream",
          "name": "stdout",
          "text": [
            "before: [1 2 3 4 5]  | type: int64\n",
            "after: [1. 2. 3. 4. 5.]  | type: float64\n"
          ]
        }
      ]
    },
    {
      "cell_type": "code",
      "source": [
        "# Reverse a numpy array\n",
        "a = np.array([1, 2, 3, 4, 5])\n",
        "print('before: ', a)\n",
        "print('after: ', a[::-1])"
      ],
      "metadata": {
        "id": "5Qgb9It6OK45",
        "colab": {
          "base_uri": "https://localhost:8080/"
        },
        "outputId": "e74f4bd6-2eb9-48fa-eb16-ed05f2970600"
      },
      "execution_count": null,
      "outputs": [
        {
          "output_type": "stream",
          "name": "stdout",
          "text": [
            "before:  [1 2 3 4 5]\n",
            "after:  [5 4 3 2 1]\n"
          ]
        }
      ]
    },
    {
      "cell_type": "code",
      "source": [
        "# How to make a NumPy array read-only?\n",
        "a = np.zeros(5)\n",
        "print(\"before any change:\", a)\n",
        "\n",
        "a[1] = 2\n",
        "print(\"before after first change: \", a)\n",
        " \n",
        "a.setflags(write=False) # make read-only\n",
        "print(\"trying to make any change \")\n",
        "a[1] = 7"
      ],
      "metadata": {
        "id": "i81tq1KCOL3Z",
        "colab": {
          "base_uri": "https://localhost:8080/",
          "height": 252
        },
        "outputId": "23c96001-ae84-49b5-cfbe-2593f80cd0b1"
      },
      "execution_count": null,
      "outputs": [
        {
          "output_type": "stream",
          "name": "stdout",
          "text": [
            "before any change: [0. 0. 0. 0. 0.]\n",
            "before after first change:  [0. 2. 0. 0. 0.]\n",
            "trying to make any change \n"
          ]
        },
        {
          "output_type": "error",
          "ename": "ValueError",
          "evalue": "ignored",
          "traceback": [
            "\u001b[0;31m---------------------------------------------------------------------------\u001b[0m",
            "\u001b[0;31mValueError\u001b[0m                                Traceback (most recent call last)",
            "\u001b[0;32m<ipython-input-27-16319a8e1a8c>\u001b[0m in \u001b[0;36m<module>\u001b[0;34m\u001b[0m\n\u001b[1;32m      8\u001b[0m \u001b[0ma\u001b[0m\u001b[0;34m.\u001b[0m\u001b[0msetflags\u001b[0m\u001b[0;34m(\u001b[0m\u001b[0mwrite\u001b[0m\u001b[0;34m=\u001b[0m\u001b[0;32mFalse\u001b[0m\u001b[0;34m)\u001b[0m \u001b[0;31m# make read-only\u001b[0m\u001b[0;34m\u001b[0m\u001b[0;34m\u001b[0m\u001b[0m\n\u001b[1;32m      9\u001b[0m \u001b[0mprint\u001b[0m\u001b[0;34m(\u001b[0m\u001b[0;34m\"trying to make any change \"\u001b[0m\u001b[0;34m)\u001b[0m\u001b[0;34m\u001b[0m\u001b[0;34m\u001b[0m\u001b[0m\n\u001b[0;32m---> 10\u001b[0;31m \u001b[0ma\u001b[0m\u001b[0;34m[\u001b[0m\u001b[0;36m1\u001b[0m\u001b[0;34m]\u001b[0m \u001b[0;34m=\u001b[0m \u001b[0;36m7\u001b[0m\u001b[0;34m\u001b[0m\u001b[0;34m\u001b[0m\u001b[0m\n\u001b[0m",
            "\u001b[0;31mValueError\u001b[0m: assignment destination is read-only"
          ]
        }
      ]
    },
    {
      "cell_type": "markdown",
      "source": [
        "## Questions on NumPy Matrix"
      ],
      "metadata": {
        "id": "nLe3o7xCYXbV"
      }
    },
    {
      "cell_type": "code",
      "source": [
        "# Get the maximum value from given matrix\n",
        "a = np.arange(3*3).reshape(3,3)\n",
        "print(a)\n",
        "print('max value: ', a.max())"
      ],
      "metadata": {
        "colab": {
          "base_uri": "https://localhost:8080/"
        },
        "id": "kcwz5gsfYxRD",
        "outputId": "b0a5b058-c3cf-446b-c048-29a842e273bc"
      },
      "execution_count": null,
      "outputs": [
        {
          "output_type": "stream",
          "name": "stdout",
          "text": [
            "[[0 1 2]\n",
            " [3 4 5]\n",
            " [6 7 8]]\n",
            "max value:  8\n"
          ]
        }
      ]
    },
    {
      "cell_type": "code",
      "source": [
        "# Get the minimum value from given matrix\n",
        "a = np.arange(3*3).reshape(3,3)\n",
        "print(a)\n",
        "print('min value: ', a.min())"
      ],
      "metadata": {
        "colab": {
          "base_uri": "https://localhost:8080/"
        },
        "id": "xmlDzHizdGV_",
        "outputId": "64d14b34-8892-4d86-813e-ba56b2dde3bf"
      },
      "execution_count": null,
      "outputs": [
        {
          "output_type": "stream",
          "name": "stdout",
          "text": [
            "[[0 1 2]\n",
            " [3 4 5]\n",
            " [6 7 8]]\n",
            "min value:  0\n"
          ]
        }
      ]
    },
    {
      "cell_type": "code",
      "source": [
        "# Find the number of rows and columns of a given matrix using NumPy\n",
        "a = np.arange(2*3).reshape(2,3)\n",
        "print(a, '\\n')\n",
        "\n",
        "print('(rows, columns) ', a.shape)"
      ],
      "metadata": {
        "colab": {
          "base_uri": "https://localhost:8080/"
        },
        "id": "yO9JBm0kdFfI",
        "outputId": "7b52d318-07fc-488b-d18a-ef3ac5822058"
      },
      "execution_count": null,
      "outputs": [
        {
          "output_type": "stream",
          "name": "stdout",
          "text": [
            "[[0 1 2]\n",
            " [3 4 5]] \n",
            "\n",
            "(rows, columns)  (2, 3)\n"
          ]
        }
      ]
    },
    {
      "cell_type": "code",
      "source": [
        "# Select the elements from a given matrix\n",
        "a = np.arange(2*3).reshape(2,3)\n",
        "print(a)\n",
        "print('select a [0,1] element: ', a[0,1])"
      ],
      "metadata": {
        "colab": {
          "base_uri": "https://localhost:8080/"
        },
        "id": "O5rdlvjBdE4f",
        "outputId": "6ee2fb8f-d72f-462f-dff3-da194f671f74"
      },
      "execution_count": null,
      "outputs": [
        {
          "output_type": "stream",
          "name": "stdout",
          "text": [
            "[[0 1 2]\n",
            " [3 4 5]]\n",
            "select a [0,1] element:  1\n"
          ]
        }
      ]
    },
    {
      "cell_type": "code",
      "source": [
        "# Find the sum of values in a matrix\n",
        "a = np.arange(3*3).reshape(3,3)\n",
        "print(a)\n",
        "print('sum: ',a.sum())"
      ],
      "metadata": {
        "colab": {
          "base_uri": "https://localhost:8080/"
        },
        "id": "QQoLc_fkdEUO",
        "outputId": "896f47eb-799b-4455-fd0b-35f545e5b0a1"
      },
      "execution_count": null,
      "outputs": [
        {
          "output_type": "stream",
          "name": "stdout",
          "text": [
            "[[0 1 2]\n",
            " [3 4 5]\n",
            " [6 7 8]]\n",
            "sum:  36\n"
          ]
        }
      ]
    },
    {
      "cell_type": "code",
      "source": [
        "# Calculate the sum of the diagonal elements of a NumPy array\n",
        "a = np.arange(3*3).reshape(3,3)\n",
        "print(a)\n",
        "print('sum: ',a.trace())"
      ],
      "metadata": {
        "colab": {
          "base_uri": "https://localhost:8080/"
        },
        "id": "4JKdRMpOdDq2",
        "outputId": "d59ef55b-c18d-48c6-d51d-cc6f276a5af9"
      },
      "execution_count": null,
      "outputs": [
        {
          "output_type": "stream",
          "name": "stdout",
          "text": [
            "[[0 1 2]\n",
            " [3 4 5]\n",
            " [6 7 8]]\n",
            "sum:  12\n"
          ]
        }
      ]
    },
    {
      "cell_type": "code",
      "source": [
        "# Adding and Subtracting Matrices in Python\n",
        "a = np.array([[1, 2], [3, 4]])\n",
        "b = np.array([[5, 6], [7, 8]])\n",
        "\n",
        "print('a + b = \\n', np.add(a, b))\n",
        "print(\"\\na - b = \\n\", np.subtract(a, b))"
      ],
      "metadata": {
        "colab": {
          "base_uri": "https://localhost:8080/"
        },
        "id": "cggSZY1EdDAG",
        "outputId": "9a15d418-05e1-44a4-889e-f563af0c01e6"
      },
      "execution_count": null,
      "outputs": [
        {
          "output_type": "stream",
          "name": "stdout",
          "text": [
            "a + b = \n",
            " [[ 6  8]\n",
            " [10 12]]\n",
            "\n",
            "a - b = \n",
            " [[-4 -4]\n",
            " [-4 -4]]\n"
          ]
        }
      ]
    },
    {
      "cell_type": "code",
      "source": [
        "# Ways to add row/columns in numpy array\n",
        "a = np.arange(3*3).reshape(3,3)\n",
        "# ways to add columns\n",
        "print(np.append(a, [[6], [6], [6]], axis=1))\n",
        "print(np.concatenate([a, [[6], [6], [6]]], axis=1))\n",
        "print(np.column_stack((a, [6, 6, 6])))\n",
        "print()\n",
        " # ways to add rows\n",
        "print(np.append(a, [[6, 6, 6]], axis=0))\n",
        "print(np.insert(a, a.shape[0], [[6, 6, 6]], axis=0))\n",
        "print(np.vstack((a, [6, 6, 6])))"
      ],
      "metadata": {
        "colab": {
          "base_uri": "https://localhost:8080/"
        },
        "id": "mV362TdRdCQd",
        "outputId": "4bf6cbfc-8c76-4c95-a4eb-c604b8c18d3d"
      },
      "execution_count": null,
      "outputs": [
        {
          "output_type": "stream",
          "name": "stdout",
          "text": [
            "[[0 1 2 6]\n",
            " [3 4 5 6]\n",
            " [6 7 8 6]]\n",
            "[[0 1 2 6]\n",
            " [3 4 5 6]\n",
            " [6 7 8 6]]\n",
            "[[0 1 2 6]\n",
            " [3 4 5 6]\n",
            " [6 7 8 6]]\n",
            "\n",
            "[[0 1 2]\n",
            " [3 4 5]\n",
            " [6 7 8]\n",
            " [6 6 6]]\n",
            "[[0 1 2]\n",
            " [3 4 5]\n",
            " [6 7 8]\n",
            " [6 6 6]]\n",
            "[[0 1 2]\n",
            " [3 4 5]\n",
            " [6 7 8]\n",
            " [6 6 6]]\n"
          ]
        }
      ]
    },
    {
      "cell_type": "code",
      "source": [
        "# Matrix Multiplication in NumPy\n",
        "a = np.array([[1, 2], [3, 4]])\n",
        "b = np.array([[5, 6], [7, 8]])\n",
        "\n",
        "print('a * b = \\n', np.dot(a, b))"
      ],
      "metadata": {
        "colab": {
          "base_uri": "https://localhost:8080/"
        },
        "id": "zbSVDe19dBmm",
        "outputId": "3deaeaf6-3746-4701-8cee-55a5b349be75"
      },
      "execution_count": null,
      "outputs": [
        {
          "output_type": "stream",
          "name": "stdout",
          "text": [
            "a * b = \n",
            " [[19 22]\n",
            " [43 50]]\n"
          ]
        }
      ]
    },
    {
      "cell_type": "code",
      "source": [
        "# Get the eigen values of a matrix\n",
        "a = np.array([[1, 2], [3, 4]])\n",
        "print(np.linalg.eig(a))"
      ],
      "metadata": {
        "colab": {
          "base_uri": "https://localhost:8080/"
        },
        "id": "3kAZU_BUdA92",
        "outputId": "e323c7f6-6066-4441-b74b-cd662387b1ab"
      },
      "execution_count": null,
      "outputs": [
        {
          "output_type": "stream",
          "name": "stdout",
          "text": [
            "(array([-0.37228132,  5.37228132]), array([[-0.82456484, -0.41597356],\n",
            "       [ 0.56576746, -0.90937671]]))\n"
          ]
        }
      ]
    },
    {
      "cell_type": "code",
      "source": [
        "# How to Calculate the determinant of a matrix using NumPy?\n",
        "a = np.array([[1, 2], [3, 4]])\n",
        "print(np.linalg.det(a))"
      ],
      "metadata": {
        "colab": {
          "base_uri": "https://localhost:8080/"
        },
        "id": "cSUq3hfgdAYU",
        "outputId": "21bb006f-1c57-4d1f-a580-630f4edfb5db"
      },
      "execution_count": null,
      "outputs": [
        {
          "output_type": "stream",
          "name": "stdout",
          "text": [
            "-2.0000000000000004\n"
          ]
        }
      ]
    },
    {
      "cell_type": "code",
      "source": [
        "# How to inverse a matrix using NumPy\n",
        "a = np.array([[1, 2], [3, 4]])\n",
        "print(np.linalg.inv(a))"
      ],
      "metadata": {
        "colab": {
          "base_uri": "https://localhost:8080/"
        },
        "id": "rSdPKzWec_vW",
        "outputId": "dc43f264-ed69-4a6b-c647-7be90acc5183"
      },
      "execution_count": null,
      "outputs": [
        {
          "output_type": "stream",
          "name": "stdout",
          "text": [
            "[[-2.   1. ]\n",
            " [ 1.5 -0.5]]\n"
          ]
        }
      ]
    },
    {
      "cell_type": "code",
      "source": [
        "# How to count the frequency of unique values in NumPy array?\n",
        "a = np.array([[1, 3, 3], [4, 5, 5]])\n",
        "uni, freq = np.unique(a, return_counts = True)\n",
        "print(uni)\n",
        "print(freq)"
      ],
      "metadata": {
        "colab": {
          "base_uri": "https://localhost:8080/"
        },
        "id": "UykTVT6Yc_Cd",
        "outputId": "b3796766-992f-46af-a455-f298dd8fab82"
      },
      "execution_count": null,
      "outputs": [
        {
          "output_type": "stream",
          "name": "stdout",
          "text": [
            "[1 3 4 5]\n",
            "[1 2 1 2]\n"
          ]
        }
      ]
    },
    {
      "cell_type": "code",
      "source": [
        "# Multiply matrices of complex numbers using NumPy in Python\n",
        "a = np.array([[1+2j, 3+4j], [5+6j, 7+8j]])  \n",
        "b = np.array([[1+3j, 1+3j], [1+30j, 1+3j]])\n",
        "print(np.vdot(a, b))"
      ],
      "metadata": {
        "colab": {
          "base_uri": "https://localhost:8080/"
        },
        "id": "61Ql2eStc-Ct",
        "outputId": "09fff36d-1180-410b-c137-29830060ed4d"
      },
      "execution_count": null,
      "outputs": [
        {
          "output_type": "stream",
          "name": "stdout",
          "text": [
            "(238+163j)\n"
          ]
        }
      ]
    },
    {
      "cell_type": "code",
      "source": [
        "# Compute the outer product of two given vectors using NumPy in Python\n",
        "a = np.array([[1, 2], [1, 6]])\n",
        "b = np.array([[1, 3], [11, 2]])\n",
        "print(np.outer(a, b))"
      ],
      "metadata": {
        "colab": {
          "base_uri": "https://localhost:8080/"
        },
        "id": "KmcwfOzSc9Yc",
        "outputId": "f96c4a08-383e-49d9-8d0f-8fc27583c8ec"
      },
      "execution_count": null,
      "outputs": [
        {
          "output_type": "stream",
          "name": "stdout",
          "text": [
            "[[ 1  3 11  2]\n",
            " [ 2  6 22  4]\n",
            " [ 1  3 11  2]\n",
            " [ 6 18 66 12]]\n"
          ]
        }
      ]
    },
    {
      "cell_type": "code",
      "source": [
        "# Calculate inner, outer, and cross products of matrices and vectors using NumPy\n",
        "a = np.array([[1, 2], [1, 6]])\n",
        "b = np.array([[1, 3], [11, 2]])\n",
        "print(np.inner(a, b), '\\n')\n",
        "print(np.outer(a, b), '\\n')\n",
        "print(np.cross(a, b))"
      ],
      "metadata": {
        "colab": {
          "base_uri": "https://localhost:8080/"
        },
        "id": "tn2p7dtac8rs",
        "outputId": "bfdba52e-df9e-406f-fe45-be305d9a8c41"
      },
      "execution_count": null,
      "outputs": [
        {
          "output_type": "stream",
          "name": "stdout",
          "text": [
            "[[ 7 15]\n",
            " [19 23]] \n",
            "\n",
            "[[ 1  3 11  2]\n",
            " [ 2  6 22  4]\n",
            " [ 1  3 11  2]\n",
            " [ 6 18 66 12]] \n",
            "\n",
            "[  1 -64]\n"
          ]
        }
      ]
    },
    {
      "cell_type": "code",
      "source": [
        "# Compute the covariance matrix of two given NumPy arrays\n",
        "a = np.array([[1, 2], [1, 6]])\n",
        "b = np.array([[1, 3], [11, 2]])\n",
        "print(np.cov(a, b))"
      ],
      "metadata": {
        "colab": {
          "base_uri": "https://localhost:8080/"
        },
        "id": "nj_Upe9xc8Cc",
        "outputId": "aa12c503-d158-4718-c034-769c406ae0eb"
      },
      "execution_count": null,
      "outputs": [
        {
          "output_type": "stream",
          "name": "stdout",
          "text": [
            "[[  0.5   2.5   1.   -4.5]\n",
            " [  2.5  12.5   5.  -22.5]\n",
            " [  1.    5.    2.   -9. ]\n",
            " [ -4.5 -22.5  -9.   40.5]]\n"
          ]
        }
      ]
    },
    {
      "cell_type": "code",
      "source": [
        "# Convert covariance matrix to correlation matrix using Python\n",
        "a = np.array([[1, 2], [1, 6]])\n",
        "b = np.array([[1, 3], [11, 2]])\n",
        "print(np.corrcoef(a, b))"
      ],
      "metadata": {
        "colab": {
          "base_uri": "https://localhost:8080/"
        },
        "id": "15Lr51eGc7Ts",
        "outputId": "4b172ea9-952d-4e3f-d86f-5794eb23e997"
      },
      "execution_count": null,
      "outputs": [
        {
          "output_type": "stream",
          "name": "stdout",
          "text": [
            "[[ 1.  1.  1. -1.]\n",
            " [ 1.  1.  1. -1.]\n",
            " [ 1.  1.  1. -1.]\n",
            " [-1. -1. -1.  1.]]\n"
          ]
        }
      ]
    },
    {
      "cell_type": "code",
      "source": [
        "# Compute the Kronecker product of two mulitdimension NumPy arrays\n",
        "a = np.array([[1, 2], [1, 6]])\n",
        "b = np.array([[1, 3], [11, 2]])\n",
        "print(np.kron(a, b))"
      ],
      "metadata": {
        "colab": {
          "base_uri": "https://localhost:8080/"
        },
        "id": "sjXvhC33c6jz",
        "outputId": "3107d132-d0aa-4e5f-a342-e955f4250593"
      },
      "execution_count": null,
      "outputs": [
        {
          "output_type": "stream",
          "name": "stdout",
          "text": [
            "[[ 1  3  2  6]\n",
            " [11  2 22  4]\n",
            " [ 1  3  6 18]\n",
            " [11  2 66 12]]\n"
          ]
        }
      ]
    },
    {
      "cell_type": "code",
      "source": [
        "# Convert the matrix into a list\n",
        "a = np.array([[1, 2], [1, 6], [1, 3], [11, 2]])\n",
        "print(a.flatten().tolist())"
      ],
      "metadata": {
        "colab": {
          "base_uri": "https://localhost:8080/"
        },
        "id": "4FDvELkoc5qb",
        "outputId": "a76c2ba0-5857-44c4-9223-06a7556c5ff1"
      },
      "execution_count": null,
      "outputs": [
        {
          "output_type": "stream",
          "name": "stdout",
          "text": [
            "[1, 2, 1, 6, 1, 3, 11, 2]\n"
          ]
        }
      ]
    },
    {
      "cell_type": "markdown",
      "source": [
        "## Questions on NumPy Indexing\n"
      ],
      "metadata": {
        "id": "OsnjerXgYbCN"
      }
    },
    {
      "cell_type": "code",
      "source": [
        "# Replace NumPy array elements that doesn’t satisfy the given condition\n",
        "a = np.arange(3*3).reshape(3,3)\n",
        "print('before:')\n",
        "print(a)\n",
        "a[a<5] = 333\n",
        "print('\\nafter:')\n",
        "print(a)"
      ],
      "metadata": {
        "colab": {
          "base_uri": "https://localhost:8080/"
        },
        "id": "78MZAs5yYxAL",
        "outputId": "067de2ef-a6e7-41ff-e11a-390b08e4269f"
      },
      "execution_count": null,
      "outputs": [
        {
          "output_type": "stream",
          "name": "stdout",
          "text": [
            "before:\n",
            "[[0 1 2]\n",
            " [3 4 5]\n",
            " [6 7 8]]\n",
            "\n",
            "after:\n",
            "[[333 333 333]\n",
            " [333 333   5]\n",
            " [  6   7   8]]\n"
          ]
        }
      ]
    },
    {
      "cell_type": "code",
      "source": [
        "# Return the indices of elements where the given condition is satisfied\n",
        "a = np.arange(3*3).reshape(3,3)\n",
        "print(np.where(a>4))"
      ],
      "metadata": {
        "colab": {
          "base_uri": "https://localhost:8080/"
        },
        "id": "P-pwruTT7ttl",
        "outputId": "bc319f7a-b97f-42cd-bee1-e4ce2cf4309f"
      },
      "execution_count": null,
      "outputs": [
        {
          "output_type": "stream",
          "name": "stdout",
          "text": [
            "(array([1, 2, 2, 2]), array([2, 0, 1, 2]))\n"
          ]
        }
      ]
    },
    {
      "cell_type": "code",
      "source": [
        "# Replace NaN values with average of columns\n",
        "a = np.array([[1, 2, np.nan],\n",
        "              [3, 4, np.nan],\n",
        "              [5, np.nan, 6]])\n",
        "media = np.nanmean(a, axis=0)\n",
        "print(media, '\\n')\n",
        "\n",
        "\n",
        "i = np.where(np.isnan(a))\n",
        "a[i] = np.take(media, i[1])\n",
        "print(a)"
      ],
      "metadata": {
        "colab": {
          "base_uri": "https://localhost:8080/"
        },
        "id": "_U6222tg7tLF",
        "outputId": "3e5f1d9f-93f4-4519-d529-ac01da92f978"
      },
      "execution_count": null,
      "outputs": [
        {
          "output_type": "stream",
          "name": "stdout",
          "text": [
            "[3. 3. 6.] \n",
            "\n",
            "[[1. 2. 6.]\n",
            " [3. 4. 6.]\n",
            " [5. 3. 6.]]\n"
          ]
        }
      ]
    },
    {
      "cell_type": "code",
      "source": [
        "# Replace negative value with zero in numpy array\n",
        "a = np.array([[1, -2, -1],\n",
        "              [3, 4, -1],\n",
        "              [5, -1, 6]])\n",
        "a[a<0] = 0\n",
        "print(a)"
      ],
      "metadata": {
        "colab": {
          "base_uri": "https://localhost:8080/"
        },
        "id": "GDcnXXKR7sWm",
        "outputId": "ae6e310f-9ac6-4ad5-c8b7-a286c7472f91"
      },
      "execution_count": null,
      "outputs": [
        {
          "output_type": "stream",
          "name": "stdout",
          "text": [
            "[[1 0 0]\n",
            " [3 4 0]\n",
            " [5 0 6]]\n"
          ]
        }
      ]
    },
    {
      "cell_type": "code",
      "source": [
        "# How to get values of an NumPy array at certain index positions?\n",
        "a = np.array([1, -2, -1, 3, 4, -1, 5, -1, 6])\n",
        "\n",
        "print(a[[1, 2, 3]])"
      ],
      "metadata": {
        "colab": {
          "base_uri": "https://localhost:8080/"
        },
        "id": "tcS0_IFm7rsf",
        "outputId": "83d1f7ec-745e-46ed-c60d-9f5ca3003893"
      },
      "execution_count": null,
      "outputs": [
        {
          "output_type": "stream",
          "name": "stdout",
          "text": [
            "[-2 -1  3]\n"
          ]
        }
      ]
    },
    {
      "cell_type": "code",
      "source": [
        "# Find indices of elements equal to zero in a NumPy array\n",
        "a = np.array([[1, -2, 0],\n",
        "              [3, 4, 0],\n",
        "              [5, 0, 6]])\n",
        "print(np.where(a==0))"
      ],
      "metadata": {
        "colab": {
          "base_uri": "https://localhost:8080/"
        },
        "id": "JUX8vWtp7rBy",
        "outputId": "301ece73-7b24-4d30-96cf-0302c17eaac3"
      },
      "execution_count": null,
      "outputs": [
        {
          "output_type": "stream",
          "name": "stdout",
          "text": [
            "(array([0, 1, 2]), array([2, 2, 1]))\n"
          ]
        }
      ]
    },
    {
      "cell_type": "code",
      "source": [
        "# How to Remove columns in Numpy array that contains non-numeric values?\n",
        "a = np.array([[1, 2, np.nan, 3],\n",
        "              [3, 4, np.nan, 3],\n",
        "              [5, np.nan, 6, 4]])\n",
        "\n",
        "print(a[:, ~np.isnan(a).any(axis=0)])"
      ],
      "metadata": {
        "colab": {
          "base_uri": "https://localhost:8080/"
        },
        "id": "U9ZqUNoJ7qfr",
        "outputId": "bf581fb3-a44e-4529-f948-9ba8b7c2e7fd"
      },
      "execution_count": null,
      "outputs": [
        {
          "output_type": "stream",
          "name": "stdout",
          "text": [
            "[[1. 3.]\n",
            " [3. 3.]\n",
            " [5. 4.]]\n"
          ]
        }
      ]
    },
    {
      "cell_type": "code",
      "source": [
        "# How to access different rows of a multidimensional NumPy array?\n",
        "a = np.array([[1, 2, np.nan, 3],\n",
        "              [3, 4, np.nan, 3],\n",
        "              [5, np.nan, 6, 4]])\n",
        "\n",
        "print(a[[0, 2]])"
      ],
      "metadata": {
        "colab": {
          "base_uri": "https://localhost:8080/"
        },
        "id": "LDSaDZAz7p50",
        "outputId": "fe4cb8f4-dd6c-4285-cde6-f4faa4707492"
      },
      "execution_count": null,
      "outputs": [
        {
          "output_type": "stream",
          "name": "stdout",
          "text": [
            "[[ 1.  2. nan  3.]\n",
            " [ 5. nan  6.  4.]]\n"
          ]
        }
      ]
    },
    {
      "cell_type": "code",
      "source": [
        "# Get row numbers of NumPy array having element larger than X\n",
        "a = np.array([[1, 2, np.nan, 1],\n",
        "              [3, 4, np.nan, 3],\n",
        "              [5, np.nan, 6, 4]])\n",
        "\n",
        "X = 2\n",
        "print(np.where(np.any(a>X, axis=1)))"
      ],
      "metadata": {
        "colab": {
          "base_uri": "https://localhost:8080/"
        },
        "id": "_z-zoBem7pXH",
        "outputId": "2fdbd9af-7366-4ffe-f9ec-6df28dd1fe9a"
      },
      "execution_count": null,
      "outputs": [
        {
          "output_type": "stream",
          "name": "stdout",
          "text": [
            "(array([1, 2]),)\n"
          ]
        }
      ]
    },
    {
      "cell_type": "code",
      "source": [
        "# Get filled the diagonals of NumPy array\n",
        "a = np.arange(3*3).reshape(3,3)\n",
        "np.fill_diagonal(a, 111)\n",
        "print(a)"
      ],
      "metadata": {
        "colab": {
          "base_uri": "https://localhost:8080/"
        },
        "id": "GlijLEKO7oyQ",
        "outputId": "8f5cea71-5cf6-4390-d1a1-e90a6f10ff80"
      },
      "execution_count": null,
      "outputs": [
        {
          "output_type": "stream",
          "name": "stdout",
          "text": [
            "[[111   1   2]\n",
            " [  3 111   5]\n",
            " [  6   7 111]]\n"
          ]
        }
      ]
    },
    {
      "cell_type": "code",
      "source": [
        "# Check elements present in the NumPy array\n",
        "a = np.arange(3*3).reshape(3,3)\n",
        "print(4 in a)\n",
        "print(40 in a)"
      ],
      "metadata": {
        "colab": {
          "base_uri": "https://localhost:8080/"
        },
        "id": "XaIl66fg7oCZ",
        "outputId": "0b85b55e-f550-4073-92e8-ed039d1f598e"
      },
      "execution_count": null,
      "outputs": [
        {
          "output_type": "stream",
          "name": "stdout",
          "text": [
            "True\n",
            "False\n"
          ]
        }
      ]
    },
    {
      "cell_type": "code",
      "source": [
        "# Combined array index by index\n",
        "a = np.arange(3*3).reshape(3,3)\n",
        "b = np.arange(3*3).reshape(3,3)\n",
        "print(a)\n",
        "print(b)\n",
        "print(a+b)"
      ],
      "metadata": {
        "colab": {
          "base_uri": "https://localhost:8080/"
        },
        "id": "_dz2LDjj7m61",
        "outputId": "0cd6221d-6f85-4c44-baf9-c43d2533b921"
      },
      "execution_count": null,
      "outputs": [
        {
          "output_type": "stream",
          "name": "stdout",
          "text": [
            "[[0 1 2]\n",
            " [3 4 5]\n",
            " [6 7 8]]\n",
            "[[0 1 2]\n",
            " [3 4 5]\n",
            " [6 7 8]]\n",
            "[[ 0  2  4]\n",
            " [ 6  8 10]\n",
            " [12 14 16]]\n"
          ]
        }
      ]
    },
    {
      "cell_type": "markdown",
      "source": [
        "## Questions on NumPy Linear Algebra\n"
      ],
      "metadata": {
        "id": "l3wRjMVJYd5b"
      }
    },
    {
      "cell_type": "code",
      "source": [
        "# Find a matrix or vector norm using NumPy\n",
        "a = np.arange(4).reshape(2,2)\n",
        "print(np.linalg.norm(a))"
      ],
      "metadata": {
        "colab": {
          "base_uri": "https://localhost:8080/"
        },
        "id": "-JNZUKEQYf9d",
        "outputId": "0c9136e4-2a32-4bcb-b96a-86828bc06f1b"
      },
      "execution_count": null,
      "outputs": [
        {
          "output_type": "stream",
          "name": "stdout",
          "text": [
            "3.7416573867739413\n"
          ]
        }
      ]
    },
    {
      "cell_type": "code",
      "source": [
        "# Calculate the QR decomposition of a given matrix using NumPy\n",
        "a = np.arange(4).reshape(2,2)\n",
        "q, r = np.linalg.qr(a)\n",
        "print(q, '\\n\\n', r)"
      ],
      "metadata": {
        "colab": {
          "base_uri": "https://localhost:8080/"
        },
        "id": "QsfFCEHn_FHq",
        "outputId": "e589e4cd-6932-4495-deaa-f9b0268fa288"
      },
      "execution_count": null,
      "outputs": [
        {
          "output_type": "stream",
          "name": "stdout",
          "text": [
            "[[ 0. -1.]\n",
            " [-1.  0.]] \n",
            "\n",
            " [[-2. -3.]\n",
            " [ 0. -1.]]\n"
          ]
        }
      ]
    },
    {
      "cell_type": "code",
      "source": [
        "# Compute the condition number of a given matrix using NumPy\n",
        "a = np.arange(4).reshape(2,2)\n",
        "print(np.linalg.cond(a))"
      ],
      "metadata": {
        "colab": {
          "base_uri": "https://localhost:8080/"
        },
        "id": "_mojdFpR_Ehb",
        "outputId": "6e9e6393-ae7b-4f38-cd47-53863234211e"
      },
      "execution_count": null,
      "outputs": [
        {
          "output_type": "stream",
          "name": "stdout",
          "text": [
            "6.8541019662496865\n"
          ]
        }
      ]
    },
    {
      "cell_type": "code",
      "source": [
        "# Compute the eigenvalues and right eigenvectors of a given square array using NumPy?\n",
        "a = np.arange(4).reshape(2,2)\n",
        "q, r = np.linalg.eig(a)\n",
        "print(q, '\\n\\n', r)"
      ],
      "metadata": {
        "colab": {
          "base_uri": "https://localhost:8080/"
        },
        "id": "SuXpyTi2_Dy7",
        "outputId": "9fa9281c-fc92-46f3-ae0e-587a070f153c"
      },
      "execution_count": null,
      "outputs": [
        {
          "output_type": "stream",
          "name": "stdout",
          "text": [
            "[-0.56155281  3.56155281] \n",
            "\n",
            " [[-0.87192821 -0.27032301]\n",
            " [ 0.48963374 -0.96276969]]\n"
          ]
        }
      ]
    },
    {
      "cell_type": "code",
      "source": [
        "# Calculate the Euclidean distance using NumPy\n",
        "a = np.array([[1, 2], [1, 6]])\n",
        "b = np.array([[1, 3], [11, 2]])\n",
        "print(np.linalg.norm(a-b))"
      ],
      "metadata": {
        "colab": {
          "base_uri": "https://localhost:8080/"
        },
        "id": "2_uU5pjw_DDy",
        "outputId": "1d326b14-eebe-49ca-e084-8d73d256693c"
      },
      "execution_count": null,
      "outputs": [
        {
          "output_type": "stream",
          "name": "stdout",
          "text": [
            "10.816653826391969\n"
          ]
        }
      ]
    },
    {
      "cell_type": "markdown",
      "source": [
        "## Questions on NumPy Random\n"
      ],
      "metadata": {
        "id": "-DWDRA-RYg09"
      }
    },
    {
      "cell_type": "code",
      "source": [
        "# Create a Numpy array with random values\n",
        "a = np.random.randint(0,10,5)\n",
        "print(a)"
      ],
      "metadata": {
        "id": "nsNPQ4zuYwmE",
        "colab": {
          "base_uri": "https://localhost:8080/"
        },
        "outputId": "f212c7db-7b0b-4cdd-8566-d4a11c9e9573"
      },
      "execution_count": 3,
      "outputs": [
        {
          "output_type": "stream",
          "name": "stdout",
          "text": [
            "[8 9 5 2 8]\n"
          ]
        }
      ]
    },
    {
      "cell_type": "code",
      "source": [
        "# How to choose elements from the list with different probability using NumPy?\n",
        "a = np.random.choice([1, 2, 3], 5)\n",
        "print(a)"
      ],
      "metadata": {
        "colab": {
          "base_uri": "https://localhost:8080/"
        },
        "id": "77hEdqQERNlV",
        "outputId": "caeb5fa0-c534-4a1c-8e5d-79848fa08a1b"
      },
      "execution_count": 4,
      "outputs": [
        {
          "output_type": "stream",
          "name": "stdout",
          "text": [
            "[2 2 1 3 3]\n"
          ]
        }
      ]
    },
    {
      "cell_type": "code",
      "source": [
        "# How to get weighted random choice in Python?\n",
        "c = np.random.choice([1, 2, 3], p=[0.1, 0.3, 0.6])\n",
        "print(c)"
      ],
      "metadata": {
        "colab": {
          "base_uri": "https://localhost:8080/"
        },
        "id": "SbER7J8eRNDk",
        "outputId": "e26c96a5-9caf-4dde-dbf3-29e30db9c345"
      },
      "execution_count": 14,
      "outputs": [
        {
          "output_type": "stream",
          "name": "stdout",
          "text": [
            "3\n"
          ]
        }
      ]
    },
    {
      "cell_type": "code",
      "source": [
        "# Generate Random Numbers From The Uniform Distribution using NumPy\n",
        "a = np.random.uniform(0, 1)\n",
        "print(a)\n",
        "\n",
        "b = np.random.uniform(0, 1, 5) # array of 5 random number between 0 and 1\n",
        "print(b)"
      ],
      "metadata": {
        "colab": {
          "base_uri": "https://localhost:8080/"
        },
        "id": "E6RZ7nrxRMa8",
        "outputId": "ad6ea2e8-663d-4ed7-a468-90a9b11772d2"
      },
      "execution_count": 8,
      "outputs": [
        {
          "output_type": "stream",
          "name": "stdout",
          "text": [
            "0.9637696438626412\n",
            "[0.34446634 0.99693705 0.93794722 0.38692791 0.78039806]\n"
          ]
        }
      ]
    },
    {
      "cell_type": "code",
      "source": [
        "# Get Random Elements form geometric distribution\n",
        "a = np.random.geometric(p=0.5)\n",
        "print(a)"
      ],
      "metadata": {
        "colab": {
          "base_uri": "https://localhost:8080/"
        },
        "id": "dlPlle64RLw0",
        "outputId": "dc46c63c-2c8b-49f1-decc-47800f46fdd6"
      },
      "execution_count": 10,
      "outputs": [
        {
          "output_type": "stream",
          "name": "stdout",
          "text": [
            "2\n"
          ]
        }
      ]
    },
    {
      "cell_type": "code",
      "source": [
        "# Get Random elements from Laplace distribution\n",
        "a = np.random.laplace(loc=2, scale=0.5, size=5)\n",
        "print(a)\n",
        "print()\n",
        "b = np.random.laplace(loc=2, scale=0.5, size=(3,3))\n",
        "print(b)"
      ],
      "metadata": {
        "colab": {
          "base_uri": "https://localhost:8080/"
        },
        "id": "301ZX1TyRLHt",
        "outputId": "67eb782c-e6ba-4dfe-fce1-f311d5969711"
      },
      "execution_count": 19,
      "outputs": [
        {
          "output_type": "stream",
          "name": "stdout",
          "text": [
            "[1.71767632 1.61951804 2.6570092  2.87729725 1.90852658]\n",
            "\n",
            "[[2.82485164 2.22237182 2.34335756]\n",
            " [3.43107453 2.31207658 2.06938477]\n",
            " [2.2889025  2.21130534 2.10953958]]\n"
          ]
        }
      ]
    },
    {
      "cell_type": "code",
      "source": [
        "# Return a Matrix of random values from a uniform distribution\n",
        "a = np.random.uniform(0, 2, (3, 4)) # matrix 3x4\n",
        "print(a)"
      ],
      "metadata": {
        "colab": {
          "base_uri": "https://localhost:8080/"
        },
        "id": "SLALYg65RKUQ",
        "outputId": "bd53c39c-7138-46ee-f773-4f9af299a5d8"
      },
      "execution_count": 12,
      "outputs": [
        {
          "output_type": "stream",
          "name": "stdout",
          "text": [
            "[[1.6856615  1.27831639 0.49581762 0.09594395]\n",
            " [0.62271642 0.51070953 0.20614646 1.74605   ]\n",
            " [0.55247299 1.21147805 0.23547749 0.53222996]]\n"
          ]
        }
      ]
    },
    {
      "cell_type": "code",
      "source": [
        "# Return a Matrix of random values from a Gaussian distribution\n",
        "a = np.random.normal(loc=2, scale=0.5, size=(3,3))\n",
        "print(a)"
      ],
      "metadata": {
        "colab": {
          "base_uri": "https://localhost:8080/"
        },
        "id": "IytHW36LRJqs",
        "outputId": "64d99968-2a76-4add-9b04-ee42843d4862"
      },
      "execution_count": 20,
      "outputs": [
        {
          "output_type": "stream",
          "name": "stdout",
          "text": [
            "[[1.8425899  2.13526825 1.92713695]\n",
            " [1.82042557 1.61702932 2.4293082 ]\n",
            " [1.57308467 2.40166782 1.90894686]]\n"
          ]
        }
      ]
    },
    {
      "cell_type": "markdown",
      "source": [
        "## Questions on NumPy Sorting and Searching"
      ],
      "metadata": {
        "id": "QpnCrswbYjVE"
      }
    },
    {
      "cell_type": "code",
      "source": [
        "# How to get the indices of the sorted array using NumPy in Python?\n",
        "a = np.array([3, 1, 4, 2])\n",
        "\n",
        "print(np.argsort(a))"
      ],
      "metadata": {
        "id": "P0Ac59pGYwVE",
        "colab": {
          "base_uri": "https://localhost:8080/"
        },
        "outputId": "b4227772-de26-43b3-8f7e-b247f30852f1"
      },
      "execution_count": 22,
      "outputs": [
        {
          "output_type": "stream",
          "name": "stdout",
          "text": [
            "[1 3 0 2]\n"
          ]
        }
      ]
    },
    {
      "cell_type": "code",
      "source": [
        "# Finding the k smallest values of a NumPy array\n",
        "a = np.array([3, 1, 4, 2])\n",
        "print(heapq.nsmallest(2,a))"
      ],
      "metadata": {
        "colab": {
          "base_uri": "https://localhost:8080/"
        },
        "id": "Gi-E_d2RTSbC",
        "outputId": "e431502c-6eae-4086-dd97-139cffb3ee16"
      },
      "execution_count": 26,
      "outputs": [
        {
          "output_type": "stream",
          "name": "stdout",
          "text": [
            "[1, 2]\n"
          ]
        }
      ]
    },
    {
      "cell_type": "code",
      "source": [
        "# How to get the n-largest values of an array using NumPy?\n",
        "a = np.array([3, 1, 4, 2])\n",
        "print(heapq.nlargest(2,a))"
      ],
      "metadata": {
        "colab": {
          "base_uri": "https://localhost:8080/"
        },
        "id": "63Aa8U6lTRsN",
        "outputId": "bee0bcf6-74d8-4f05-dc79-338f7e67bf53"
      },
      "execution_count": 29,
      "outputs": [
        {
          "output_type": "stream",
          "name": "stdout",
          "text": [
            "[4, 3]\n"
          ]
        }
      ]
    },
    {
      "cell_type": "code",
      "source": [
        "# Sort the values in a matrix\n",
        "m = np.array([[3, 1], [4, 2]])\n",
        "print(np.sort(m, axis=None))"
      ],
      "metadata": {
        "colab": {
          "base_uri": "https://localhost:8080/"
        },
        "id": "x2jZ7VGYTQ72",
        "outputId": "239f36d1-6e2c-4e86-e443-5c6de6dace3e"
      },
      "execution_count": 31,
      "outputs": [
        {
          "output_type": "stream",
          "name": "stdout",
          "text": [
            "[1 2 3 4]\n"
          ]
        }
      ]
    },
    {
      "cell_type": "code",
      "source": [
        "# Filter out integers from float numpy array\n",
        "a = np.array([1.0, 2.5, 3.1, 4.5, 5.0])\n",
        "print(a[a%1!=0])"
      ],
      "metadata": {
        "colab": {
          "base_uri": "https://localhost:8080/"
        },
        "id": "ak3xhvvETQMO",
        "outputId": "70a0bb44-0f46-4f63-f7a2-285f8703492b"
      },
      "execution_count": 33,
      "outputs": [
        {
          "output_type": "stream",
          "name": "stdout",
          "text": [
            "[2.5 3.1 4.5]\n"
          ]
        }
      ]
    },
    {
      "cell_type": "code",
      "source": [
        "# Find the indices into a sorted array\n",
        "a = np.array([3, 1, 4, 2])\n",
        "i_into_sorted = np.argsort(np.argsort(a))\n",
        "print(i_into_sorted)"
      ],
      "metadata": {
        "colab": {
          "base_uri": "https://localhost:8080/"
        },
        "id": "y7IuL04fTO5U",
        "outputId": "ada7d92e-bcd0-456a-bd31-82228dce4f5e"
      },
      "execution_count": 37,
      "outputs": [
        {
          "output_type": "stream",
          "name": "stdout",
          "text": [
            "[2 0 3 1]\n"
          ]
        }
      ]
    },
    {
      "cell_type": "markdown",
      "source": [
        "## Questions on NumPy Mathematics\n"
      ],
      "metadata": {
        "id": "cKTNtECDYlxi"
      }
    },
    {
      "cell_type": "code",
      "source": [
        "# How to get element-wise true division of an array using Numpy?\n",
        "a = np.array([1, 2, 3])\n",
        "b = np.array([2, 3, 4])\n",
        "print(np.true_divide(a, b[:,np.newaxis]))"
      ],
      "metadata": {
        "id": "362aelmtYv0c",
        "colab": {
          "base_uri": "https://localhost:8080/"
        },
        "outputId": "9ebc381d-b3ef-42ae-9e72-aaca5c322863"
      },
      "execution_count": 63,
      "outputs": [
        {
          "output_type": "stream",
          "name": "stdout",
          "text": [
            "[[0.5        1.         1.5       ]\n",
            " [0.33333333 0.66666667 1.        ]\n",
            " [0.25       0.5        0.75      ]]\n"
          ]
        }
      ]
    },
    {
      "cell_type": "code",
      "source": [
        "# How to calculate the element-wise absolute value of NumPy array?\n",
        "a = np.array([-1, 2, -3])\n",
        "print(np.abs(a))"
      ],
      "metadata": {
        "colab": {
          "base_uri": "https://localhost:8080/"
        },
        "id": "zCxxmhekVgp1",
        "outputId": "ead72576-f9a0-4595-b3ce-b7809822e02f"
      },
      "execution_count": 40,
      "outputs": [
        {
          "output_type": "stream",
          "name": "stdout",
          "text": [
            "[1 2 3]\n"
          ]
        }
      ]
    },
    {
      "cell_type": "code",
      "source": [
        "# Compute the negative of the NumPy array\n",
        "a = np.array([-1, 2, -3])\n",
        "print(np.negative(a))"
      ],
      "metadata": {
        "colab": {
          "base_uri": "https://localhost:8080/"
        },
        "id": "AuFvIBLHVgBM",
        "outputId": "88faf392-f0ec-4245-f6de-0620e7da61d3"
      },
      "execution_count": 41,
      "outputs": [
        {
          "output_type": "stream",
          "name": "stdout",
          "text": [
            "[ 1 -2  3]\n"
          ]
        }
      ]
    },
    {
      "cell_type": "code",
      "source": [
        "# Multiply 2d numpy array corresponding to 1d array\n",
        "a = np.array([[1, 2], [3, 4], [5, 6]])\n",
        "b = np.array([2, 3])\n",
        "print(np.multiply(a, b[: np.newaxis]))"
      ],
      "metadata": {
        "colab": {
          "base_uri": "https://localhost:8080/"
        },
        "id": "CAa3Nl13VfYr",
        "outputId": "206ce894-4dd1-4460-8309-9533e9aa77fd"
      },
      "execution_count": 48,
      "outputs": [
        {
          "output_type": "stream",
          "name": "stdout",
          "text": [
            "[[ 2  6]\n",
            " [ 6 12]\n",
            " [10 18]]\n"
          ]
        }
      ]
    },
    {
      "cell_type": "code",
      "source": [
        "# Computes the inner product of two arrays\n",
        "a = np.array([1, 2, 3])\n",
        "b = np.array([4, 5, 6])\n",
        "print(np.dot(a,b))\n",
        "print(a @ b)"
      ],
      "metadata": {
        "colab": {
          "base_uri": "https://localhost:8080/"
        },
        "id": "Li0iAZupVe1D",
        "outputId": "37d8423b-dba5-4357-f6d6-d0670d4986a9"
      },
      "execution_count": 50,
      "outputs": [
        {
          "output_type": "stream",
          "name": "stdout",
          "text": [
            "32\n",
            "32\n"
          ]
        }
      ]
    },
    {
      "cell_type": "code",
      "source": [
        "# Compute the nth percentile of the NumPy array\n",
        "a = np.array([1, 2, 3, 4, 5, 6])\n",
        "print(np.percentile(a, 13))"
      ],
      "metadata": {
        "colab": {
          "base_uri": "https://localhost:8080/"
        },
        "id": "JJ8g61KSVeDJ",
        "outputId": "f57530c8-548b-4a0b-81e4-76f04885d23e"
      },
      "execution_count": 54,
      "outputs": [
        {
          "output_type": "stream",
          "name": "stdout",
          "text": [
            "1.65\n"
          ]
        }
      ]
    },
    {
      "cell_type": "code",
      "source": [
        "# Calculate the n-th order discrete difference along the given axis\n",
        "a = np.array([1, 2, 4, 7, 11, 16])\n",
        "print(np.diff(a, n=1))\n",
        "print(np.diff(a, n=2))\n",
        "print(np.diff(a, n=3))\n"
      ],
      "metadata": {
        "colab": {
          "base_uri": "https://localhost:8080/"
        },
        "id": "UT9H6e1sVdeB",
        "outputId": "9d20cb7a-6f27-4473-ac44-85541b7b49f0"
      },
      "execution_count": 58,
      "outputs": [
        {
          "output_type": "stream",
          "name": "stdout",
          "text": [
            "[1 2 3 4 5]\n",
            "[1 1 1 1]\n",
            "[0 0 0]\n"
          ]
        }
      ]
    },
    {
      "cell_type": "code",
      "source": [
        "# Calculate the sum of all columns in a 2D NumPy array\n",
        "a = np.arange(9).reshape(3,3)\n",
        "print(np.sum(a, axis=0))"
      ],
      "metadata": {
        "colab": {
          "base_uri": "https://localhost:8080/"
        },
        "id": "bu7f3YW_VczA",
        "outputId": "93d4006d-1b37-45b2-ae1a-a7d3f95f5f9c"
      },
      "execution_count": 59,
      "outputs": [
        {
          "output_type": "stream",
          "name": "stdout",
          "text": [
            "[ 9 12 15]\n"
          ]
        }
      ]
    },
    {
      "cell_type": "code",
      "source": [
        "# Calculate average values of two given NumPy arrays\n",
        "a = np.array([1, 2, 3])\n",
        "b = np.array([4, 5, 6])\n",
        "print(np.mean([a,b], axis=0))"
      ],
      "metadata": {
        "colab": {
          "base_uri": "https://localhost:8080/"
        },
        "id": "OyYSXyUAVb4X",
        "outputId": "0e00d385-d4e3-4217-e890-9289cc5dcfff"
      },
      "execution_count": 61,
      "outputs": [
        {
          "output_type": "stream",
          "name": "stdout",
          "text": [
            "[2.5 3.5 4.5]\n"
          ]
        }
      ]
    },
    {
      "cell_type": "code",
      "source": [
        "# How to compute numerical negative value for all elements in a given NumPy array?\n",
        "a = np.array([-1, 2, -3, 4, -5, 6])\n",
        "print(np.negative(a))"
      ],
      "metadata": {
        "colab": {
          "base_uri": "https://localhost:8080/"
        },
        "id": "Uj6J0XbbVbRl",
        "outputId": "c2f24b5d-0b09-427c-8afc-76b53ccc5fde"
      },
      "execution_count": 62,
      "outputs": [
        {
          "output_type": "stream",
          "name": "stdout",
          "text": [
            "[ 1 -2  3 -4  5 -6]\n"
          ]
        }
      ]
    },
    {
      "cell_type": "code",
      "source": [
        "# How to get the floor, ceiling and truncated values of the elements of a numpy array?\n",
        "a = np.array([-1.5, 2, -3, 4, -5, 6])\n",
        "print('floor:', np.floor(a))\n",
        "print('ceil: ', np.ceil(a))\n",
        "print('trunc:', np.trunc(a))\n"
      ],
      "metadata": {
        "colab": {
          "base_uri": "https://localhost:8080/"
        },
        "id": "lieK9PYFVasV",
        "outputId": "39e2b543-4f04-4fe2-9600-7f0391d90c92"
      },
      "execution_count": 66,
      "outputs": [
        {
          "output_type": "stream",
          "name": "stdout",
          "text": [
            "floor: [-2.  2. -3.  4. -5.  6.]\n",
            "ceil:  [-1.  2. -3.  4. -5.  6.]\n",
            "trunc: [-1.  2. -3.  4. -5.  6.]\n"
          ]
        }
      ]
    },
    {
      "cell_type": "code",
      "source": [
        "# How to round elements of the NumPy array to the nearest integer?\n",
        "a = np.array([-1.5, 2, -3, 4.7, -5, 6.3])\n",
        "print(np.rint(a))"
      ],
      "metadata": {
        "colab": {
          "base_uri": "https://localhost:8080/"
        },
        "id": "TQdvP2EuVZ9S",
        "outputId": "f259043a-fc80-454b-bba6-da61c9b01cda"
      },
      "execution_count": 68,
      "outputs": [
        {
          "output_type": "stream",
          "name": "stdout",
          "text": [
            "[-2.  2. -3.  5. -5.  6.]\n"
          ]
        }
      ]
    },
    {
      "cell_type": "code",
      "source": [
        "# Find the round off the values of the given matrix\n",
        "a = np.array([-1.555, 2, -3, 4.898, -5.0182, 6])\n",
        "print(np.round(a, decimals=2))"
      ],
      "metadata": {
        "colab": {
          "base_uri": "https://localhost:8080/"
        },
        "id": "8AIyYq0-VZKR",
        "outputId": "a898a445-6af5-4585-f0d7-21ff2c1510f7"
      },
      "execution_count": 69,
      "outputs": [
        {
          "output_type": "stream",
          "name": "stdout",
          "text": [
            "[-1.56  2.   -3.    4.9  -5.02  6.  ]\n"
          ]
        }
      ]
    },
    {
      "cell_type": "code",
      "source": [
        "# Determine the positive square-root of an array\n",
        "a = np.array([1, 2, 3, 6, 9, 16])\n",
        "print(np.sqrt(a))"
      ],
      "metadata": {
        "colab": {
          "base_uri": "https://localhost:8080/"
        },
        "id": "8q-crv-0VYjB",
        "outputId": "31bcb32b-8791-4f68-f7f2-49fd1e47d2d0"
      },
      "execution_count": 72,
      "outputs": [
        {
          "output_type": "stream",
          "name": "stdout",
          "text": [
            "[1.         1.41421356 1.73205081 2.44948974 3.         4.        ]\n"
          ]
        }
      ]
    },
    {
      "cell_type": "code",
      "source": [
        "# Evaluate Einstein’s summation convention of two multidimensional NumPy arrays\n",
        "a = np.array([[1, 2], [3, 4]])\n",
        "b = np.array([[5, 6], [7, 8]])\n",
        "\n",
        "print(np.einsum('ij,ij->i', a, b))"
      ],
      "metadata": {
        "colab": {
          "base_uri": "https://localhost:8080/"
        },
        "id": "Dn2lqcKaVX9B",
        "outputId": "0ec13a3c-0f5c-494e-8147-02cb90258d86"
      },
      "execution_count": 77,
      "outputs": [
        {
          "output_type": "stream",
          "name": "stdout",
          "text": [
            "[17 53]\n"
          ]
        }
      ]
    },
    {
      "cell_type": "markdown",
      "source": [
        "## Questions on NumPy Statistics\n"
      ],
      "metadata": {
        "id": "XR0NyYZUYoEo"
      }
    },
    {
      "cell_type": "code",
      "source": [
        "# Compute the median of the flattened NumPy array\n",
        "a = np.array([1, 2, 3, 4, 5, 6])\n",
        "flat = a.flatten()\n",
        "print(np.median(flat))"
      ],
      "metadata": {
        "id": "GpEwJYtGYvjc",
        "colab": {
          "base_uri": "https://localhost:8080/"
        },
        "outputId": "9ed60bf5-9966-4876-f5ff-6fb1ac21dad4"
      },
      "execution_count": 79,
      "outputs": [
        {
          "output_type": "stream",
          "name": "stdout",
          "text": [
            "3.5\n"
          ]
        }
      ]
    },
    {
      "cell_type": "code",
      "source": [
        "# Find Mean of a List of Numpy Array\n",
        "a = np.array([[1, 2, 3], [4, 5, 6]])\n",
        "mean = [np.mean(a,axis=0) for a in a]\n",
        "print(mean)"
      ],
      "metadata": {
        "colab": {
          "base_uri": "https://localhost:8080/"
        },
        "id": "1ze418o_Y_rf",
        "outputId": "2d358f52-4569-4e32-8b04-4c2006f36e62"
      },
      "execution_count": 81,
      "outputs": [
        {
          "output_type": "stream",
          "name": "stdout",
          "text": [
            "[2.0, 5.0]\n"
          ]
        }
      ]
    },
    {
      "cell_type": "code",
      "source": [
        "# Calculate the mean of array ignoring the NaN value\n",
        "a = np.array([1, 2, 3, np.nan, 5, 6])\n",
        "print(np.nanmean(a))"
      ],
      "metadata": {
        "colab": {
          "base_uri": "https://localhost:8080/"
        },
        "id": "1AbKx0abY-4A",
        "outputId": "785c80ff-ab91-4254-d648-1af22a28ddd0"
      },
      "execution_count": 82,
      "outputs": [
        {
          "output_type": "stream",
          "name": "stdout",
          "text": [
            "3.4\n"
          ]
        }
      ]
    },
    {
      "cell_type": "code",
      "source": [
        "# Get the mean value from given matrix\n",
        "a = np.array([[1, 2, 3], [4, 5, 6]])\n",
        "print(np.mean(a))"
      ],
      "metadata": {
        "colab": {
          "base_uri": "https://localhost:8080/"
        },
        "id": "dyzlAcPVY-RQ",
        "outputId": "b326d605-be37-443f-9236-4f3f460a6983"
      },
      "execution_count": 83,
      "outputs": [
        {
          "output_type": "stream",
          "name": "stdout",
          "text": [
            "3.5\n"
          ]
        }
      ]
    },
    {
      "cell_type": "code",
      "source": [
        "# Compute the variance of the NumPy array\n",
        "a = np.array([[1, 2, 3, 4, 5, 6]])\n",
        "print(np.var(a))"
      ],
      "metadata": {
        "colab": {
          "base_uri": "https://localhost:8080/"
        },
        "id": "8OU9j01qY9pJ",
        "outputId": "7491dc91-86ee-4191-e38b-1f7061287532"
      },
      "execution_count": 84,
      "outputs": [
        {
          "output_type": "stream",
          "name": "stdout",
          "text": [
            "2.9166666666666665\n"
          ]
        }
      ]
    },
    {
      "cell_type": "code",
      "source": [
        "# Compute the standard deviation of the NumPy array\n",
        "a = np.array([[1, 2, 3, 4, 5, 6]])\n",
        "print(np.std(a))"
      ],
      "metadata": {
        "colab": {
          "base_uri": "https://localhost:8080/"
        },
        "id": "sCHD8S6TY8fo",
        "outputId": "4ccbb0d7-4d62-4cc6-9b64-18dde3a74efb"
      },
      "execution_count": 85,
      "outputs": [
        {
          "output_type": "stream",
          "name": "stdout",
          "text": [
            "1.707825127659933\n"
          ]
        }
      ]
    },
    {
      "cell_type": "code",
      "source": [
        "# Compute pearson product-moment correlation coefficients of two given NumPy arrays\n",
        "a = np.array([1, 2, 3])\n",
        "b = np.array([4, 5, 6])\n",
        "\n",
        "print(np.corrcoef(a,b))"
      ],
      "metadata": {
        "colab": {
          "base_uri": "https://localhost:8080/"
        },
        "id": "NmV3o1jNY71A",
        "outputId": "302549dc-0ece-41a6-fbd2-94d7e2726593"
      },
      "execution_count": 87,
      "outputs": [
        {
          "output_type": "stream",
          "name": "stdout",
          "text": [
            "[[1. 1.]\n",
            " [1. 1.]]\n"
          ]
        }
      ]
    },
    {
      "cell_type": "code",
      "source": [
        "# Calculate the mean across dimension in a 2D NumPy array\n",
        "a = np.array([[1, 2, 3], [4, 5, 6]])\n",
        "print('rows: ', np.mean(a, axis=1))\n",
        "print('columns: ', np.mean(a, axis=0))\n"
      ],
      "metadata": {
        "colab": {
          "base_uri": "https://localhost:8080/"
        },
        "id": "61QBHOxsY6ku",
        "outputId": "9d1b0279-43d9-4eda-f972-36c4e8522b78"
      },
      "execution_count": 96,
      "outputs": [
        {
          "output_type": "stream",
          "name": "stdout",
          "text": [
            "rows:  [2. 5.]\n",
            "columns:  [2.5 3.5 4.5]\n"
          ]
        }
      ]
    },
    {
      "cell_type": "code",
      "source": [
        "# Calculate the average, variance and standard deviation in Python using NumPy\n",
        "a = np.array([[1, 2, 3], [4, 5, 6]])\n",
        "print(\"averange:\", a.mean())\n",
        "print(\"variance:\", a.var())\n",
        "print(\"standart deviation:\", a.std())"
      ],
      "metadata": {
        "colab": {
          "base_uri": "https://localhost:8080/"
        },
        "id": "xk4Bb641Y40o",
        "outputId": "a494a382-9daa-4f1c-8c3f-05db94f2e844"
      },
      "execution_count": 97,
      "outputs": [
        {
          "output_type": "stream",
          "name": "stdout",
          "text": [
            "averange: 3.5\n",
            "variance: 2.9166666666666665\n",
            "standart deviation: 1.707825127659933\n"
          ]
        }
      ]
    },
    {
      "cell_type": "code",
      "source": [
        "# Describe a NumPy Array in Python\n",
        "a = np.array([1, 2, 3, 4, 5, 6])\n",
        "print(\"shape:\", a.shape)\n",
        "print(\"data type:\", a.dtype)\n",
        "print(\"minimum:\", a.min())\n",
        "print(\"maximum:\", a.max())\n",
        "print(\"mean:\", a.mean())\n",
        "print(\"variance:\", a.var())\n",
        "print(\"standard deviation:\", a.std())"
      ],
      "metadata": {
        "colab": {
          "base_uri": "https://localhost:8080/"
        },
        "id": "j0kpWxg3Y4Rv",
        "outputId": "f023ca83-769c-4d14-f10b-d4d69889bcc0"
      },
      "execution_count": 98,
      "outputs": [
        {
          "output_type": "stream",
          "name": "stdout",
          "text": [
            "shape: (6,)\n",
            "data type: int64\n",
            "minimum: 1\n",
            "maximum: 6\n",
            "mean: 3.5\n",
            "variance: 2.9166666666666665\n",
            "standard deviation: 1.707825127659933\n"
          ]
        }
      ]
    },
    {
      "cell_type": "markdown",
      "source": [
        "## Questions on Polynomial\n"
      ],
      "metadata": {
        "id": "AtqKjPJBYqRH"
      }
    },
    {
      "cell_type": "code",
      "source": [
        "from numpy.polynomial import Polynomial\n",
        "from numpy.polynomial import polynomial as P"
      ],
      "metadata": {
        "id": "YRcQV5pnegPY"
      },
      "execution_count": 121,
      "outputs": []
    },
    {
      "cell_type": "code",
      "source": [
        "# Define a polynomial function\n",
        "f = np.poly1d([1,2,3,4])\n",
        "\n",
        "print(f(1))"
      ],
      "metadata": {
        "id": "ir8WZSaNYrXm",
        "colab": {
          "base_uri": "https://localhost:8080/"
        },
        "outputId": "51b9bedc-b13c-4f23-e22b-e3ac67a2874c"
      },
      "execution_count": 104,
      "outputs": [
        {
          "output_type": "stream",
          "name": "stdout",
          "text": [
            "10\n"
          ]
        }
      ]
    },
    {
      "cell_type": "code",
      "source": [
        "# How to add one polynomial to another using NumPy in Python?\n",
        "f = np.poly1d([1,2,3,4])\n",
        "g = np.poly1d([1, -2, 3])\n",
        "h = f + g\n",
        "\n",
        "print(h(2))"
      ],
      "metadata": {
        "colab": {
          "base_uri": "https://localhost:8080/"
        },
        "id": "1qHQwlq8cVpR",
        "outputId": "78e23828-69e2-4d54-f477-e023f186ad7c"
      },
      "execution_count": 108,
      "outputs": [
        {
          "output_type": "stream",
          "name": "stdout",
          "text": [
            "29\n"
          ]
        }
      ]
    },
    {
      "cell_type": "code",
      "source": [
        "# How to subtract one polynomial to another using NumPy in Python?\n",
        "f = np.poly1d([1,2,3,4])\n",
        "g = np.poly1d([1, -2, 3])\n",
        "h = f - g\n",
        "\n",
        "print(h(2))"
      ],
      "metadata": {
        "colab": {
          "base_uri": "https://localhost:8080/"
        },
        "id": "Pul02QJWcU6y",
        "outputId": "1b1770ec-44fc-4f32-f6db-826c8de80354"
      },
      "execution_count": 109,
      "outputs": [
        {
          "output_type": "stream",
          "name": "stdout",
          "text": [
            "23\n"
          ]
        }
      ]
    },
    {
      "cell_type": "code",
      "source": [
        "# How to multiply a polynomial to another using NumPy in Python?\n",
        "f = np.poly1d([1,2,3,4])\n",
        "g = np.poly1d([1, -2, 3])\n",
        "h = f * g\n",
        "\n",
        "print(h(2))"
      ],
      "metadata": {
        "colab": {
          "base_uri": "https://localhost:8080/"
        },
        "id": "3Fw1ciaCcUCZ",
        "outputId": "df462b37-2b4a-453e-9c3f-294b749cf966"
      },
      "execution_count": 111,
      "outputs": [
        {
          "output_type": "stream",
          "name": "stdout",
          "text": [
            "78\n"
          ]
        }
      ]
    },
    {
      "cell_type": "code",
      "source": [
        "# How to divide a polynomial to another using NumPy in Python?\n",
        "f = np.poly1d([1,2,3,4])\n",
        "g = np.poly1d([1, -2, 3])\n",
        "q,r = np.polydiv(f, g)\n",
        "\n",
        "print('quotient: ', q)\n",
        "print('remainder: ', r)"
      ],
      "metadata": {
        "colab": {
          "base_uri": "https://localhost:8080/"
        },
        "id": "vSKXScsxcTYz",
        "outputId": "996af5e2-14b0-4e31-a37d-1a5677239115"
      },
      "execution_count": 119,
      "outputs": [
        {
          "output_type": "stream",
          "name": "stdout",
          "text": [
            "quotient:   \n",
            "1 x + 4\n",
            "remainder:   \n",
            "8 x - 8\n"
          ]
        }
      ]
    },
    {
      "cell_type": "code",
      "source": [
        "# Find the roots of the polynomials using NumPy\n",
        "print(np.roots([4,5,1]))"
      ],
      "metadata": {
        "colab": {
          "base_uri": "https://localhost:8080/"
        },
        "id": "MvJgrzrVcSxy",
        "outputId": "10597db7-7376-4c6d-f592-8e0f99171913"
      },
      "execution_count": 120,
      "outputs": [
        {
          "output_type": "stream",
          "name": "stdout",
          "text": [
            "[-1.   -0.25]\n"
          ]
        }
      ]
    },
    {
      "cell_type": "code",
      "source": [
        "# Evaluate a 2-D polynomial series on the Cartesian product\n",
        "a = np.array([[1, 2, 3], [6, 5, 4]])\n",
        "p = P.polygrid2d([6, 2], [8, 5], a)\n",
        "print(p)"
      ],
      "metadata": {
        "colab": {
          "base_uri": "https://localhost:8080/"
        },
        "id": "o4TCMy2wcSCD",
        "outputId": "c3d7e946-20bf-4b23-cc88-c2ed045f0540"
      },
      "execution_count": 122,
      "outputs": [
        {
          "output_type": "stream",
          "name": "stdout",
          "text": [
            "[[2021.  872.]\n",
            " [ 813.  348.]]\n"
          ]
        }
      ]
    },
    {
      "cell_type": "code",
      "source": [
        "# Evaluate a 3-D polynomial series on the Cartesian product\n",
        "a = np.array([[1, 2, 3], [6, 5, 4], [9, 7, 8]])\n",
        "p = P.polygrid3d(6, 2, 5, a)\n",
        "print(p)"
      ],
      "metadata": {
        "colab": {
          "base_uri": "https://localhost:8080/"
        },
        "id": "cXALyvUrcQti",
        "outputId": "125446a8-67e1-4523-bedf-8119f3920c5b"
      },
      "execution_count": 123,
      "outputs": [
        {
          "output_type": "stream",
          "name": "stdout",
          "text": [
            "2189.0\n"
          ]
        }
      ]
    },
    {
      "cell_type": "markdown",
      "source": [
        "## Questions on NumPy Strings\n"
      ],
      "metadata": {
        "id": "7T2tBcroYssV"
      }
    },
    {
      "cell_type": "code",
      "source": [
        "# Repeat all the elements of a NumPy array of strings\n",
        "a = np.array(['cansei', 'muita', 'questao'])\n",
        "print(np.char.multiply(a, 3))"
      ],
      "metadata": {
        "id": "x1SvQMGAYtrF",
        "colab": {
          "base_uri": "https://localhost:8080/"
        },
        "outputId": "ca63d1dc-2a23-4197-8da9-515a95e7146c"
      },
      "execution_count": 125,
      "outputs": [
        {
          "output_type": "stream",
          "name": "stdout",
          "text": [
            "['canseicanseicansei' 'muitamuitamuita' 'questaoquestaoquestao']\n"
          ]
        }
      ]
    },
    {
      "cell_type": "code",
      "source": [
        "# How to split the element of a given NumPy array with spaces?\n",
        "a = np.array(['cansei cansada', 'é muita questao'])\n",
        "print(np.char.split(a))\n"
      ],
      "metadata": {
        "colab": {
          "base_uri": "https://localhost:8080/"
        },
        "id": "TqPCO8HNfEEe",
        "outputId": "3c30e193-73b2-49af-a2aa-d391d1fb1efb"
      },
      "execution_count": 128,
      "outputs": [
        {
          "output_type": "stream",
          "name": "stdout",
          "text": [
            "[list(['cansei', 'cansada']) list(['é', 'muita', 'questao'])]\n"
          ]
        }
      ]
    },
    {
      "cell_type": "code",
      "source": [
        "# How to insert a space between characters of all the elements of a given NumPy array?\n",
        "a = np.array(['cansei', 'muita', 'questao'])\n",
        "print(np.char.join(' ', a))"
      ],
      "metadata": {
        "colab": {
          "base_uri": "https://localhost:8080/"
        },
        "id": "UX0ofP5lfDZz",
        "outputId": "433860fe-dadb-4d40-e67c-1644e426a2dc"
      },
      "execution_count": 129,
      "outputs": [
        {
          "output_type": "stream",
          "name": "stdout",
          "text": [
            "['c a n s e i' 'm u i t a' 'q u e s t a o']\n"
          ]
        }
      ]
    },
    {
      "cell_type": "code",
      "source": [
        "# Find the length of each string element in the Numpy array\n",
        "a = np.array(['cansei', 'muita', 'questao'])\n",
        "print((np.vectorize(len)(a)))"
      ],
      "metadata": {
        "colab": {
          "base_uri": "https://localhost:8080/"
        },
        "id": "XZYpVWYgfCvM",
        "outputId": "d283746d-af13-40ad-a360-7b2e77c6bf43"
      },
      "execution_count": 130,
      "outputs": [
        {
          "output_type": "stream",
          "name": "stdout",
          "text": [
            "[6 5 7]\n"
          ]
        }
      ]
    },
    {
      "cell_type": "code",
      "source": [
        "# Swap the case of an array of string\n",
        "a = np.array(['Cansei', 'muIta', 'queStao'])\n",
        "print(np.char.swapcase(a))"
      ],
      "metadata": {
        "colab": {
          "base_uri": "https://localhost:8080/"
        },
        "id": "LKDGVf-lfCAb",
        "outputId": "368b3c49-beea-4bee-8978-b23ac82d76f8"
      },
      "execution_count": 131,
      "outputs": [
        {
          "output_type": "stream",
          "name": "stdout",
          "text": [
            "['cANSEI' 'MUiTA' 'QUEsTAO']\n"
          ]
        }
      ]
    },
    {
      "cell_type": "code",
      "source": [
        "# Change the case to uppercase of elements of an array\n",
        "a = np.array(['Cansei', 'muIta', 'queStao'])\n",
        "print(np.char.upper(a))"
      ],
      "metadata": {
        "colab": {
          "base_uri": "https://localhost:8080/"
        },
        "id": "JOcHY6gVfBhM",
        "outputId": "65c6550c-4745-4350-ea2a-ee827ccd1f6e"
      },
      "execution_count": 132,
      "outputs": [
        {
          "output_type": "stream",
          "name": "stdout",
          "text": [
            "['CANSEI' 'MUITA' 'QUESTAO']\n"
          ]
        }
      ]
    },
    {
      "cell_type": "code",
      "source": [
        "# Change the case to lowercase of elements of an array\n",
        "a = np.array(['Cansei', 'muIta', 'queStao'])\n",
        "print(np.char.lower(a))"
      ],
      "metadata": {
        "colab": {
          "base_uri": "https://localhost:8080/"
        },
        "id": "nx0DF90LfA3k",
        "outputId": "b2fbc210-e9bd-4385-c0d7-c2a73b4fe3c3"
      },
      "execution_count": 133,
      "outputs": [
        {
          "output_type": "stream",
          "name": "stdout",
          "text": [
            "['cansei' 'muita' 'questao']\n"
          ]
        }
      ]
    },
    {
      "cell_type": "code",
      "source": [
        "# Join String by a seperator\n",
        "a = np.array(['professor','é', 'muita', 'questao'])\n",
        "print(np.char.join('|', a))"
      ],
      "metadata": {
        "colab": {
          "base_uri": "https://localhost:8080/"
        },
        "id": "BCt1hIt5fALU",
        "outputId": "b4f040d8-07c4-4c4f-a92f-fd7c23f07cbb"
      },
      "execution_count": 135,
      "outputs": [
        {
          "output_type": "stream",
          "name": "stdout",
          "text": [
            "['p|r|o|f|e|s|s|o|r' 'é' 'm|u|i|t|a' 'q|u|e|s|t|a|o']\n"
          ]
        }
      ]
    },
    {
      "cell_type": "code",
      "source": [
        "# Check if two same shaped string arrayss one by one\n",
        "a = np.array(['muita','é', 'muito', 'muitos'])\n",
        "b = np.array(['muita','é', 'muita', 'muitos'])\n",
        "\n",
        "print(np.char.equal(a, b))"
      ],
      "metadata": {
        "colab": {
          "base_uri": "https://localhost:8080/"
        },
        "id": "1tWEXLpCe_fc",
        "outputId": "317444a3-ca64-4c61-eec9-8a2ef4e4e3f7"
      },
      "execution_count": 141,
      "outputs": [
        {
          "output_type": "stream",
          "name": "stdout",
          "text": [
            "[ True  True False  True]\n"
          ]
        }
      ]
    },
    {
      "cell_type": "code",
      "source": [
        "# Count the number of substrings in an array\n",
        "a = np.array(['muita','é', 'muita', 'muitos'])\n",
        "print(np.char.count(a, 'ui'))"
      ],
      "metadata": {
        "colab": {
          "base_uri": "https://localhost:8080/"
        },
        "id": "FDf_n9TFe-9U",
        "outputId": "f944f9a5-64b8-46fd-c24f-84e97223c7bb"
      },
      "execution_count": 142,
      "outputs": [
        {
          "output_type": "stream",
          "name": "stdout",
          "text": [
            "[1 0 1 1]\n"
          ]
        }
      ]
    },
    {
      "cell_type": "code",
      "source": [
        "# Find the lowest index of the substring in an array\n",
        "a = np.array(['muita','é', 'muita', 'muitos'])\n",
        "print(np.char.find(a, 'ui'))"
      ],
      "metadata": {
        "colab": {
          "base_uri": "https://localhost:8080/"
        },
        "id": "C--J37vFe-Zd",
        "outputId": "362acb74-ceaa-4f0a-9c77-a2dda919b261"
      },
      "execution_count": 145,
      "outputs": [
        {
          "output_type": "stream",
          "name": "stdout",
          "text": [
            "[ 1 -1  1  1]\n"
          ]
        }
      ]
    },
    {
      "cell_type": "code",
      "source": [
        "# Get the boolean array when values end with a particular character\n",
        "a = np.array(['muita','é', 'muita', 'muitos'])\n",
        "print(np.char.endswith(a, 'i'))"
      ],
      "metadata": {
        "colab": {
          "base_uri": "https://localhost:8080/"
        },
        "id": "TVTTAAETe9yc",
        "outputId": "b22b3305-60e5-4251-bffa-ba542737abc8"
      },
      "execution_count": 146,
      "outputs": [
        {
          "output_type": "stream",
          "name": "stdout",
          "text": [
            "[False False False False]\n"
          ]
        }
      ]
    },
    {
      "cell_type": "markdown",
      "source": [
        "## More Questions on NumPy\n"
      ],
      "metadata": {
        "id": "B1M69KPshVUc"
      }
    },
    {
      "cell_type": "code",
      "source": [
        "# Different ways to convert a Python dictionary to a NumPy array\n",
        "d = { 'a': 1, 'b': 2, 'c': 3, 'd': 4 }\n",
        "print(d)\n",
        "print()\n",
        "\n",
        "a = np.array(list(d.items()))\n",
        "print(a)\n",
        "\n",
        "print()\n",
        "b = np.array(list(d.values()))\n",
        "print(b)"
      ],
      "metadata": {
        "colab": {
          "base_uri": "https://localhost:8080/"
        },
        "id": "IX4qkxmie8fl",
        "outputId": "6be26a07-61f3-44b5-f2d9-061d2e3f0525"
      },
      "execution_count": 150,
      "outputs": [
        {
          "output_type": "stream",
          "name": "stdout",
          "text": [
            "{'a': 1, 'b': 2, 'c': 3, 'd': 4}\n",
            "\n",
            "[['a' '1']\n",
            " ['b' '2']\n",
            " ['c' '3']\n",
            " ['d' '4']]\n",
            "\n",
            "[1 2 3 4]\n"
          ]
        }
      ]
    },
    {
      "cell_type": "code",
      "source": [
        "# How to convert a list and tuple into NumPy arrays?\n",
        "l = [1,2,3,4]\n",
        "t = (1,2)\n",
        "a = np.asarray(l)\n",
        "b = np.asarray(t)\n",
        "print('lista: ', l, 'array: ', a)\n",
        "print('lista type: ', type(l), 'array type: ', type(a))\n",
        "\n",
        "print('\\ntupla: ', t, 'array: ', b)\n",
        "print('tupla type: ', type(t), 'array type: ', type(b))"
      ],
      "metadata": {
        "colab": {
          "base_uri": "https://localhost:8080/"
        },
        "id": "o_P2J4Y0e704",
        "outputId": "1c86bd4f-c697-4dea-e37f-d1e070ba763a"
      },
      "execution_count": 154,
      "outputs": [
        {
          "output_type": "stream",
          "name": "stdout",
          "text": [
            "lista:  [1, 2, 3, 4] array:  [1 2 3 4]\n",
            "lista type:  <class 'list'> array type:  <class 'numpy.ndarray'>\n",
            "\n",
            "tupla:  (1, 2) array:  [1 2]\n",
            "tupla type:  <class 'tuple'> array type:  <class 'numpy.ndarray'>\n"
          ]
        }
      ]
    },
    {
      "cell_type": "code",
      "source": [
        "# Ways to convert array of strings to array of floats\n",
        "a = np.array(['12','12', '14', '15'])\n",
        "a = ', '.join(a)\n",
        "a = np.fromstring(a, dtype=float, sep=', ')\n",
        "b = np.array(['12','12', '14', '15'])\n",
        "b = b.astype(float)\n",
        "print(a)\n",
        "print(b)\n"
      ],
      "metadata": {
        "colab": {
          "base_uri": "https://localhost:8080/"
        },
        "id": "9KVe1N4Pe7Td",
        "outputId": "4b6f537d-2989-402e-87b1-d41ab5a44f88"
      },
      "execution_count": 156,
      "outputs": [
        {
          "output_type": "stream",
          "name": "stdout",
          "text": [
            "[12. 12. 14. 15.]\n",
            "[12. 12. 14. 15.]\n"
          ]
        }
      ]
    },
    {
      "cell_type": "code",
      "source": [
        "# Convert a NumPy array into a csv file\n",
        "a = np.array([[1, 2, 3], [4, 5, 6, 8]])\n",
        "\n",
        "# with open('caminho_do_arquivo.csv', 'w') as f:\n",
        "#   np.savetxt(f, a, delimiter=',')"
      ],
      "metadata": {
        "id": "1S3aEqjve6uV"
      },
      "execution_count": null,
      "outputs": []
    },
    {
      "cell_type": "code",
      "source": [
        "# How to Convert an image to NumPy array and save it to CSV file using Python?\n",
        "\n",
        "img = Image.open(requests.get('http://pudim.com.br/pudim.jpg', stream=True).raw)\n",
        "a = np.asarray(img)\n",
        "print(a.shape)\n",
        "\n",
        "plt.imshow(a)"
      ],
      "metadata": {
        "colab": {
          "base_uri": "https://localhost:8080/",
          "height": 304
        },
        "id": "Ei6le_oYe5-1",
        "outputId": "f61cbd2a-b5ca-4a52-f4ef-12f53a0a9b38"
      },
      "execution_count": 164,
      "outputs": [
        {
          "output_type": "stream",
          "name": "stdout",
          "text": [
            "(480, 640, 3)\n"
          ]
        },
        {
          "output_type": "execute_result",
          "data": {
            "text/plain": [
              "<matplotlib.image.AxesImage at 0x7fbc8e354f40>"
            ]
          },
          "metadata": {},
          "execution_count": 164
        },
        {
          "output_type": "display_data",
          "data": {
            "text/plain": [
              "<Figure size 432x288 with 1 Axes>"
            ],
            "image/png": "[encoded data removed]"
          },
          "metadata": {
            "needs_background": "light"
          }
        }
      ]
    },
    {
      "cell_type": "code",
      "source": [
        "# How to save a NumPy array to a text file?\n",
        "a = np.array([[1, 2, 3], [4, 5, 6, 8]])\n",
        "\n",
        "# with open('caminho_do_arquivo.txt', 'w') as f:\n",
        "#   np.savetxt(f, a, delimiter=',')"
      ],
      "metadata": {
        "id": "88dLZytEe5fV"
      },
      "execution_count": null,
      "outputs": []
    },
    {
      "cell_type": "code",
      "source": [
        "# Load data from a text file\n",
        "\n",
        "# with open('caminho_do_arquivo.txt', 'r') as f:\n",
        "#   np.loadtxt(f, a, delimiter=',')"
      ],
      "metadata": {
        "id": "-b81kb2ne42W"
      },
      "execution_count": 160,
      "outputs": []
    },
    {
      "cell_type": "code",
      "source": [
        "# Plot line graph from NumPy array\n",
        "x = np.arange(0, 10, 0.1)\n",
        "y = x * 5\n",
        "\n",
        "plt.title(\"Line graph\")\n",
        "plt.plot(x, y)\n",
        "plt.show()"
      ],
      "metadata": {
        "colab": {
          "base_uri": "https://localhost:8080/",
          "height": 281
        },
        "id": "HyxN5NURe4TV",
        "outputId": "eb74b42d-fafd-4dab-9a9b-6a842c1407b6"
      },
      "execution_count": 165,
      "outputs": [
        {
          "output_type": "display_data",
          "data": {
            "text/plain": [
              "<Figure size 432x288 with 1 Axes>"
            ],
            "image/png": "[encoded data removed]"
          },
          "metadata": {
            "needs_background": "light"
          }
        }
      ]
    },
    {
      "cell_type": "code",
      "source": [
        "# Create Histogram using NumPy\n",
        "data = np.random.randn(350)\n",
        "h, b = np.histogram(data, bins=10)\n",
        "\n",
        "plt.hist(data,bins=50, color='skyblue', ec=\"black\")\n",
        "plt.title('Histogram')\n",
        "plt.xlabel('Value')\n",
        "plt.ylabel('Frequency')\n",
        "plt.show()"
      ],
      "metadata": {
        "colab": {
          "base_uri": "https://localhost:8080/",
          "height": 295
        },
        "id": "OpiRpq_Pe3ru",
        "outputId": "79c10905-1e32-4b25-eaf4-b2b51650131d"
      },
      "execution_count": 181,
      "outputs": [
        {
          "output_type": "display_data",
          "data": {
            "text/plain": [
              "<Figure size 432x288 with 1 Axes>"
            ],
            "image/png": "[encoded data removed]"
          },
          "metadata": {
            "needs_background": "light"
          }
        }
      ]
    }
  ]
}